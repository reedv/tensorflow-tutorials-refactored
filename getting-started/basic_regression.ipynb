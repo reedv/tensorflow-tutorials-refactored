{
 "cells": [
  {
   "cell_type": "markdown",
   "metadata": {
    "colab_type": "text",
    "id": "FhGuhbZ6M5tl"
   },
   "source": [
    "##### Copyright 2018 The TensorFlow Authors."
   ]
  },
  {
   "cell_type": "code",
   "execution_count": 1,
   "metadata": {
    "colab": {
     "autoexec": {
      "startup": false,
      "wait_interval": 0
     }
    },
    "colab_type": "code",
    "id": "AwOEIRJC6Une"
   },
   "outputs": [],
   "source": [
    "#@title Licensed under the Apache License, Version 2.0 (the \"License\");\n",
    "# you may not use this file except in compliance with the License.\n",
    "# You may obtain a copy of the License at\n",
    "#\n",
    "# https://www.apache.org/licenses/LICENSE-2.0\n",
    "#\n",
    "# Unless required by applicable law or agreed to in writing, software\n",
    "# distributed under the License is distributed on an \"AS IS\" BASIS,\n",
    "# WITHOUT WARRANTIES OR CONDITIONS OF ANY KIND, either express or implied.\n",
    "# See the License for the specific language governing permissions and\n",
    "# limitations under the License."
   ]
  },
  {
   "cell_type": "code",
   "execution_count": 2,
   "metadata": {
    "colab": {
     "autoexec": {
      "startup": false,
      "wait_interval": 0
     }
    },
    "colab_type": "code",
    "id": "KyPEtTqk6VdG"
   },
   "outputs": [],
   "source": [
    "#@title MIT License\n",
    "#\n",
    "# Copyright (c) 2017 François Chollet\n",
    "#\n",
    "# Permission is hereby granted, free of charge, to any person obtaining a\n",
    "# copy of this software and associated documentation files (the \"Software\"),\n",
    "# to deal in the Software without restriction, including without limitation\n",
    "# the rights to use, copy, modify, merge, publish, distribute, sublicense,\n",
    "# and/or sell copies of the Software, and to permit persons to whom the\n",
    "# Software is furnished to do so, subject to the following conditions:\n",
    "#\n",
    "# The above copyright notice and this permission notice shall be included in\n",
    "# all copies or substantial portions of the Software.\n",
    "#\n",
    "# THE SOFTWARE IS PROVIDED \"AS IS\", WITHOUT WARRANTY OF ANY KIND, EXPRESS OR\n",
    "# IMPLIED, INCLUDING BUT NOT LIMITED TO THE WARRANTIES OF MERCHANTABILITY,\n",
    "# FITNESS FOR A PARTICULAR PURPOSE AND NONINFRINGEMENT. IN NO EVENT SHALL\n",
    "# THE AUTHORS OR COPYRIGHT HOLDERS BE LIABLE FOR ANY CLAIM, DAMAGES OR OTHER\n",
    "# LIABILITY, WHETHER IN AN ACTION OF CONTRACT, TORT OR OTHERWISE, ARISING\n",
    "# FROM, OUT OF OR IN CONNECTION WITH THE SOFTWARE OR THE USE OR OTHER\n",
    "# DEALINGS IN THE SOFTWARE."
   ]
  },
  {
   "cell_type": "markdown",
   "metadata": {
    "colab_type": "text",
    "id": "EIdT9iu_Z4Rb"
   },
   "source": [
    "# Predict house prices: regression"
   ]
  },
  {
   "cell_type": "markdown",
   "metadata": {
    "colab_type": "text",
    "id": "bBIlTPscrIT9"
   },
   "source": [
    "<table class=\"tfo-notebook-buttons\" align=\"left\">\n",
    "  <td>\n",
    "    <a target=\"_blank\" href=\"https://www.tensorflow.org/tutorials/keras/basic_regression\"><img src=\"https://www.tensorflow.org/images/tf_logo_32px.png\" />View on TensorFlow.org</a>\n",
    "  </td>\n",
    "  <td>\n",
    "    <a target=\"_blank\" href=\"https://colab.research.google.com/github/tensorflow/models/blob/master/samples/core/tutorials/keras/basic_regression.ipynb\"><img src=\"https://www.tensorflow.org/images/colab_logo_32px.png\" />Run in Google Colab</a>\n",
    "  </td>\n",
    "  <td>\n",
    "    <a target=\"_blank\" href=\"https://github.com/tensorflow/models/blob/master/samples/core/tutorials/keras/basic_regression.ipynb\"><img src=\"https://www.tensorflow.org/images/GitHub-Mark-32px.png\" />View source on GitHub</a>\n",
    "  </td>\n",
    "</table>"
   ]
  },
  {
   "cell_type": "markdown",
   "metadata": {
    "colab_type": "text",
    "id": "AHp3M9ZmrIxj"
   },
   "source": [
    "In a *regression* problem, we aim to predict the output of a continuous value, like a price or a probability. Contrast this with a *classification* problem, where we aim to predict a discrete label (for example, where a picture contains an apple or an orange). \n",
    "\n",
    "This notebook builds a model to predict the median price of homes in a Boston suburb during the mid-1970s. To do this, we'll provide the model with some data points about the suburb, such as the crime rate and the local property tax rate.\n",
    "\n",
    "This example uses the `tf.keras` API, see [this guide](https://www.tensorflow.org/guide/keras) for details."
   ]
  },
  {
   "cell_type": "code",
   "execution_count": 3,
   "metadata": {
    "colab": {
     "autoexec": {
      "startup": false,
      "wait_interval": 0
     }
    },
    "colab_type": "code",
    "id": "1rRo8oNqZ-Rj"
   },
   "outputs": [
    {
     "name": "stdout",
     "output_type": "stream",
     "text": [
      "1.11.0-dev20180806\n"
     ]
    }
   ],
   "source": [
    "import tensorflow as tf\n",
    "from tensorflow import keras\n",
    "\n",
    "import numpy as np\n",
    "\n",
    "print(tf.__version__)"
   ]
  },
  {
   "cell_type": "markdown",
   "metadata": {
    "colab_type": "text",
    "id": "F_72b0LCNbjx"
   },
   "source": [
    "## The Boston Housing Prices dataset\n",
    "\n",
    "This [dataset](https://www.cs.toronto.edu/~delve/data/boston/bostonDetail.html) is accessible directly in TensorFlow. Download and shuffle the training set:"
   ]
  },
  {
   "cell_type": "code",
   "execution_count": 4,
   "metadata": {
    "colab": {
     "autoexec": {
      "startup": false,
      "wait_interval": 0
     }
    },
    "colab_type": "code",
    "id": "p9kxxgzvzlyz"
   },
   "outputs": [
    {
     "name": "stdout",
     "output_type": "stream",
     "text": [
      "Downloading data from https://storage.googleapis.com/tensorflow/tf-keras-datasets/boston_housing.npz\n",
      "57344/57026 [==============================] - 0s 4us/step\n"
     ]
    }
   ],
   "source": [
    "boston_housing = keras.datasets.boston_housing\n",
    "\n",
    "(train_data, train_labels), (test_data, test_labels) = boston_housing.load_data()"
   ]
  },
  {
   "cell_type": "code",
   "execution_count": 11,
   "metadata": {
    "colab": {
     "autoexec": {
      "startup": false,
      "wait_interval": 0
     }
    },
    "colab_type": "code",
    "id": "p9kxxgzvzlyz"
   },
   "outputs": [
    {
     "name": "stdout",
     "output_type": "stream",
     "text": [
      "[0.24242501 0.97240311 0.05449331 0.28095367 0.22825535]\n",
      "[  9 202 193  63 356]\n"
     ]
    }
   ],
   "source": [
    "# Shuffle the training set. Why? See https://stats.stackexchange.com/a/311327/167299\n",
    "shuffled_train_labels = np.random.random(train_labels.shape)\n",
    "print(shuffled_train_labels[:5])\n",
    "\n",
    "shuffled_resorted_indices = np.argsort(shuffled_train_labels)\n",
    "print(shuffled_resorted_indices[:5])\n",
    "\n",
    "train_data = train_data[shuffled_resorted_indices]\n",
    "train_labels = train_labels[shuffled_resorted_indices]"
   ]
  },
  {
   "cell_type": "markdown",
   "metadata": {
    "colab_type": "text",
    "id": "PwEKwRJgsgJ6"
   },
   "source": [
    "### Examples and features \n",
    "\n",
    "This dataset is much smaller than the others we've worked with so far: it has 506 total examples are split between 404 training examples and 102 test examples:"
   ]
  },
  {
   "cell_type": "code",
   "execution_count": 14,
   "metadata": {
    "colab": {
     "autoexec": {
      "startup": false,
      "wait_interval": 0
     }
    },
    "colab_type": "code",
    "id": "Ujqcgkipr65P"
   },
   "outputs": [
    {
     "name": "stdout",
     "output_type": "stream",
     "text": [
      "Training set: number examples = 404, number features = 13\n",
      "Testing set: number examples = 102, number features = 13\n"
     ]
    }
   ],
   "source": [
    "print(\"Training set: number examples = {}, number features = {}\"\n",
    "      .format(train_data.shape[0], train_data.shape[1]))\n",
    "print(\"Testing set: number examples = {}, number features = {}\"\n",
    "      .format(test_data.shape[0], test_data.shape[1]))\n",
    "\n",
    "assert train_data.shape[1] == test_data.shape[1], 'feature count mismatch between training and testing datasets'"
   ]
  },
  {
   "cell_type": "markdown",
   "metadata": {
    "colab_type": "text",
    "id": "0LRPXE3Oz3Nq"
   },
   "source": [
    "The dataset contains 13 different features:\n",
    "\n",
    "1.   Per capita crime rate.\n",
    "2.   The proportion of residential land zoned for lots over 25,000 square feet.\n",
    "3.   The proportion of non-retail business acres per town.\n",
    "4.   Charles River dummy variable (= 1 if tract bounds river; 0 otherwise).\n",
    "5.   Nitric oxides concentration (parts per 10 million).\n",
    "6.   The average number of rooms per dwelling.\n",
    "7.   The proportion of owner-occupied units built before 1940.\n",
    "8.   Weighted distances to five Boston employment centers.\n",
    "9.   Index of accessibility to radial highways.\n",
    "10.  Full-value property-tax rate per $10,000.\n",
    "11.  Pupil-teacher ratio by town.\n",
    "12.  1000 * (Bk - 0.63) ** 2 where Bk is the proportion of Black people by town.\n",
    "13.  Percentage lower status of the population.\n",
    "\n",
    "Each one of these input data features is stored using a different scale. Some features are represented by a proportion between 0 and 1, other features are ranges between 1 and 12, some are ranges between 0 and 100, and so on. This is often the case with real-world data, and understanding how to explore and clean such data is an important skill to develop.\n",
    "\n",
    "Key Point: As a modeler and developer, think about how this data is used and the potential benefits and harm a model's predictions can cause. A model like this could reinforce societal biases and disparities. **Is a feature relevant to the problem you want to solve or will it introduce bias?** For more information, read about [ML fairness](https://developers.google.com/machine-learning/fairness-overview/)."
   ]
  },
  {
   "cell_type": "code",
   "execution_count": 15,
   "metadata": {
    "colab": {
     "autoexec": {
      "startup": false,
      "wait_interval": 0
     }
    },
    "colab_type": "code",
    "id": "8tYsm8Gs03J4"
   },
   "outputs": [
    {
     "name": "stdout",
     "output_type": "stream",
     "text": [
      "[4.3790e-02 8.0000e+01 3.3700e+00 0.0000e+00 3.9800e-01 5.7870e+00\n",
      " 3.1100e+01 6.6115e+00 4.0000e+00 3.3700e+02 1.6100e+01 3.9690e+02\n",
      " 1.0240e+01]\n"
     ]
    }
   ],
   "source": [
    "print(train_data[0])  # Display sample features, notice the different scales"
   ]
  },
  {
   "cell_type": "markdown",
   "metadata": {
    "colab_type": "text",
    "id": "Q7muNf-d1-ne"
   },
   "source": [
    "Use the [pandas](https://pandas.pydata.org) library to display the first few rows of the dataset in a nicely formatted table:"
   ]
  },
  {
   "cell_type": "code",
   "execution_count": 16,
   "metadata": {
    "colab": {
     "autoexec": {
      "startup": false,
      "wait_interval": 0
     }
    },
    "colab_type": "code",
    "id": "pYVyGhdyCpIM"
   },
   "outputs": [
    {
     "data": {
      "text/html": [
       "<div>\n",
       "<style scoped>\n",
       "    .dataframe tbody tr th:only-of-type {\n",
       "        vertical-align: middle;\n",
       "    }\n",
       "\n",
       "    .dataframe tbody tr th {\n",
       "        vertical-align: top;\n",
       "    }\n",
       "\n",
       "    .dataframe thead th {\n",
       "        text-align: right;\n",
       "    }\n",
       "</style>\n",
       "<table border=\"1\" class=\"dataframe\">\n",
       "  <thead>\n",
       "    <tr style=\"text-align: right;\">\n",
       "      <th></th>\n",
       "      <th>CRIM</th>\n",
       "      <th>ZN</th>\n",
       "      <th>INDUS</th>\n",
       "      <th>CHAS</th>\n",
       "      <th>NOX</th>\n",
       "      <th>RM</th>\n",
       "      <th>AGE</th>\n",
       "      <th>DIS</th>\n",
       "      <th>RAD</th>\n",
       "      <th>TAX</th>\n",
       "      <th>PTRATIO</th>\n",
       "      <th>B</th>\n",
       "      <th>LSTAT</th>\n",
       "    </tr>\n",
       "  </thead>\n",
       "  <tbody>\n",
       "    <tr>\n",
       "      <th>0</th>\n",
       "      <td>0.04379</td>\n",
       "      <td>80.0</td>\n",
       "      <td>3.37</td>\n",
       "      <td>0.0</td>\n",
       "      <td>0.398</td>\n",
       "      <td>5.787</td>\n",
       "      <td>31.1</td>\n",
       "      <td>6.6115</td>\n",
       "      <td>4.0</td>\n",
       "      <td>337.0</td>\n",
       "      <td>16.1</td>\n",
       "      <td>396.90</td>\n",
       "      <td>10.24</td>\n",
       "    </tr>\n",
       "    <tr>\n",
       "      <th>1</th>\n",
       "      <td>0.06899</td>\n",
       "      <td>0.0</td>\n",
       "      <td>25.65</td>\n",
       "      <td>0.0</td>\n",
       "      <td>0.581</td>\n",
       "      <td>5.870</td>\n",
       "      <td>69.7</td>\n",
       "      <td>2.2577</td>\n",
       "      <td>2.0</td>\n",
       "      <td>188.0</td>\n",
       "      <td>19.1</td>\n",
       "      <td>389.15</td>\n",
       "      <td>14.37</td>\n",
       "    </tr>\n",
       "    <tr>\n",
       "      <th>2</th>\n",
       "      <td>2.37857</td>\n",
       "      <td>0.0</td>\n",
       "      <td>18.10</td>\n",
       "      <td>0.0</td>\n",
       "      <td>0.583</td>\n",
       "      <td>5.871</td>\n",
       "      <td>41.9</td>\n",
       "      <td>3.7240</td>\n",
       "      <td>24.0</td>\n",
       "      <td>666.0</td>\n",
       "      <td>20.2</td>\n",
       "      <td>370.73</td>\n",
       "      <td>13.34</td>\n",
       "    </tr>\n",
       "    <tr>\n",
       "      <th>3</th>\n",
       "      <td>0.12269</td>\n",
       "      <td>0.0</td>\n",
       "      <td>6.91</td>\n",
       "      <td>0.0</td>\n",
       "      <td>0.448</td>\n",
       "      <td>6.069</td>\n",
       "      <td>40.0</td>\n",
       "      <td>5.7209</td>\n",
       "      <td>3.0</td>\n",
       "      <td>233.0</td>\n",
       "      <td>17.9</td>\n",
       "      <td>389.39</td>\n",
       "      <td>9.55</td>\n",
       "    </tr>\n",
       "    <tr>\n",
       "      <th>4</th>\n",
       "      <td>0.24103</td>\n",
       "      <td>0.0</td>\n",
       "      <td>7.38</td>\n",
       "      <td>0.0</td>\n",
       "      <td>0.493</td>\n",
       "      <td>6.083</td>\n",
       "      <td>43.7</td>\n",
       "      <td>5.4159</td>\n",
       "      <td>5.0</td>\n",
       "      <td>287.0</td>\n",
       "      <td>19.6</td>\n",
       "      <td>396.90</td>\n",
       "      <td>12.79</td>\n",
       "    </tr>\n",
       "  </tbody>\n",
       "</table>\n",
       "</div>"
      ],
      "text/plain": [
       "      CRIM    ZN  INDUS  CHAS    NOX     RM   AGE     DIS   RAD    TAX  \\\n",
       "0  0.04379  80.0   3.37   0.0  0.398  5.787  31.1  6.6115   4.0  337.0   \n",
       "1  0.06899   0.0  25.65   0.0  0.581  5.870  69.7  2.2577   2.0  188.0   \n",
       "2  2.37857   0.0  18.10   0.0  0.583  5.871  41.9  3.7240  24.0  666.0   \n",
       "3  0.12269   0.0   6.91   0.0  0.448  6.069  40.0  5.7209   3.0  233.0   \n",
       "4  0.24103   0.0   7.38   0.0  0.493  6.083  43.7  5.4159   5.0  287.0   \n",
       "\n",
       "   PTRATIO       B  LSTAT  \n",
       "0     16.1  396.90  10.24  \n",
       "1     19.1  389.15  14.37  \n",
       "2     20.2  370.73  13.34  \n",
       "3     17.9  389.39   9.55  \n",
       "4     19.6  396.90  12.79  "
      ]
     },
     "execution_count": 16,
     "metadata": {},
     "output_type": "execute_result"
    }
   ],
   "source": [
    "import pandas as pd\n",
    "\n",
    "column_names = ['CRIM', 'ZN', 'INDUS', \n",
    "                'CHAS', 'NOX', 'RM', 'AGE', \n",
    "                'DIS', 'RAD', 'TAX', \n",
    "                'PTRATIO', 'B', 'LSTAT']\n",
    "\n",
    "df = pd.DataFrame(train_data, columns=column_names)\n",
    "df.head()"
   ]
  },
  {
   "cell_type": "markdown",
   "metadata": {
    "colab_type": "text",
    "id": "wb9S7Mia2lpf"
   },
   "source": [
    "### Labels\n",
    "\n",
    "The labels are the house prices in thousands of dollars. (You may notice the mid-1970s prices.)"
   ]
  },
  {
   "cell_type": "code",
   "execution_count": 18,
   "metadata": {
    "colab": {
     "autoexec": {
      "startup": false,
      "wait_interval": 0
     }
    },
    "colab_type": "code",
    "id": "I8NwI2ND2t4Y"
   },
   "outputs": [
    {
     "name": "stdout",
     "output_type": "stream",
     "text": [
      "[19.4 22.  20.6 21.2 22.2 17.5 13.4 21.7 32.  20.3]\n"
     ]
    }
   ],
   "source": [
    "print(train_labels[:10])  # Display first 10 entries"
   ]
  },
  {
   "cell_type": "markdown",
   "metadata": {
    "colab_type": "text",
    "id": "mRklxK5s388r"
   },
   "source": [
    "## Normalize features\n",
    "\n",
    "It's recommended to normalize features that use different scales and ranges. For each feature, subtract the mean of the feature and divide by the standard deviation:"
   ]
  },
  {
   "cell_type": "code",
   "execution_count": 21,
   "metadata": {
    "colab": {
     "autoexec": {
      "startup": false,
      "wait_interval": 0
     }
    },
    "colab_type": "code",
    "id": "ze5WQP8R1TYg"
   },
   "outputs": [
    {
     "name": "stdout",
     "output_type": "stream",
     "text": [
      "[3.74511057e+00 1.14801980e+01 1.11044307e+01 6.18811881e-02\n",
      " 5.57355941e-01 6.26708168e+00 6.90106436e+01 3.74027079e+00\n",
      " 9.44059406e+00 4.05898515e+02 1.84759901e+01 3.54783168e+02\n",
      " 1.27408168e+01]\n",
      "[9.22929073e+00 2.37382770e+01 6.80287253e+00 2.40939633e-01\n",
      " 1.17147847e-01 7.08908627e-01 2.79060634e+01 2.02770050e+00\n",
      " 8.68758849e+00 1.66168506e+02 2.19765689e+00 9.39946015e+01\n",
      " 7.24556085e+00]\n"
     ]
    }
   ],
   "source": [
    "# Test data is *not* used when calculating the mean and std.\n",
    "\n",
    "total_samples_features_means_vect = train_data.mean(axis=0)\n",
    "print(total_samples_features_means_vect)\n",
    "total_samples_features_stds_vect = train_data.std(axis=0)\n",
    "print(total_samples_features_stds_vect)"
   ]
  },
  {
   "cell_type": "code",
   "execution_count": 22,
   "metadata": {
    "colab": {
     "autoexec": {
      "startup": false,
      "wait_interval": 0
     }
    },
    "colab_type": "code",
    "id": "ze5WQP8R1TYg"
   },
   "outputs": [
    {
     "name": "stdout",
     "output_type": "stream",
     "text": [
      "[-0.40104063  2.88646905 -1.136936   -0.25683275 -1.36029765 -0.67721236\n",
      " -1.35850919  1.41600261 -0.62624905 -0.4146304  -1.08114698  0.44807713\n",
      " -0.34515159]\n"
     ]
    }
   ],
   "source": [
    "train_data = (train_data - mean) / std\n",
    "test_data = (test_data - mean) / std\n",
    "\n",
    "print(train_data[0])  # First training sample, normalized"
   ]
  },
  {
   "cell_type": "markdown",
   "metadata": {
    "colab_type": "text",
    "id": "BuiClDk45eS4"
   },
   "source": [
    "Although the model *might* converge without feature normalization, it makes training more difficult, and it makes the resulting model more dependant on the choice of units used in the input."
   ]
  },
  {
   "cell_type": "markdown",
   "metadata": {
    "colab_type": "text",
    "id": "SmjdzxKzEu1-"
   },
   "source": [
    "## Create the model\n",
    "\n",
    "Let's build our model. Here, we'll use a `Sequential` model with two densely connected hidden layers, and an output layer that returns a single, continuous value. The model building steps are wrapped in a function, `build_model`, since we'll create a second model, later on."
   ]
  },
  {
   "cell_type": "code",
   "execution_count": 59,
   "metadata": {
    "colab": {
     "autoexec": {
      "startup": false,
      "wait_interval": 0
     }
    },
    "colab_type": "code",
    "id": "c26juK7ZG8j-"
   },
   "outputs": [
    {
     "name": "stdout",
     "output_type": "stream",
     "text": [
      "_________________________________________________________________\n",
      "Layer (type)                 Output Shape              Param #   \n",
      "=================================================================\n",
      "dense_17 (Dense)             (None, 64)                896       \n",
      "_________________________________________________________________\n",
      "dense_18 (Dense)             (None, 64)                4160      \n",
      "_________________________________________________________________\n",
      "dense_16 (Dense)             (None, 1)                 65        \n",
      "=================================================================\n",
      "Total params: 5,121\n",
      "Trainable params: 5,121\n",
      "Non-trainable params: 0\n",
      "_________________________________________________________________\n"
     ]
    }
   ],
   "source": [
    "NUM_FEATURES = train_data.shape[1]\n",
    "\n",
    "def build_model():\n",
    "    \"\"\" return compiled NN model \"\"\"\n",
    "    single_output_layer = keras.layers.Dense(1)\n",
    "    model = keras.Sequential([\n",
    "        keras.layers.Dense(64, activation=tf.nn.relu, input_shape=(NUM_FEATURES,)),\n",
    "        keras.layers.Dense(64, activation=tf.nn.relu),\n",
    "        single_output_layer\n",
    "    ])\n",
    "\n",
    "    optimizer = tf.train.RMSPropOptimizer(0.001)\n",
    "\n",
    "    model.compile(loss='mse',\n",
    "                  optimizer=optimizer,\n",
    "                  metrics=['mae'])\n",
    "    return model\n",
    "\n",
    "model = build_model()\n",
    "model.summary()"
   ]
  },
  {
   "cell_type": "markdown",
   "metadata": {
    "colab_type": "text",
    "id": "0-qWCsh6DlyH"
   },
   "source": [
    "## Train the model\n",
    "\n",
    "The model is trained for 500 epochs, and record the training and validation accuracy in the `history` object."
   ]
  },
  {
   "cell_type": "code",
   "execution_count": 60,
   "metadata": {
    "colab": {
     "autoexec": {
      "startup": false,
      "wait_interval": 0
     }
    },
    "colab_type": "code",
    "id": "sD7qHCmNIOY0"
   },
   "outputs": [
    {
     "name": "stdout",
     "output_type": "stream",
     "text": [
      "Train on 323 samples, validate on 81 samples\n",
      "Epoch 1/500\n",
      "323/323 [==============================] - 0s 975us/step - loss: 586.2111 - mean_absolute_error: 22.4309 - val_loss: 485.1308 - val_mean_absolute_error: 19.8913\n",
      "\n",
      ".Epoch 2/500\n",
      "323/323 [==============================] - 0s 48us/step - loss: 534.6953 - mean_absolute_error: 21.3034 - val_loss: 434.3711 - val_mean_absolute_error: 18.5674\n",
      ".Epoch 3/500\n",
      "323/323 [==============================] - 0s 63us/step - loss: 479.1966 - mean_absolute_error: 19.9860 - val_loss: 385.3788 - val_mean_absolute_error: 17.1364\n",
      ".Epoch 4/500\n",
      "323/323 [==============================] - 0s 64us/step - loss: 419.3865 - mean_absolute_error: 18.4658 - val_loss: 322.1897 - val_mean_absolute_error: 15.3710\n",
      ".Epoch 5/500\n",
      "323/323 [==============================] - 0s 60us/step - loss: 344.4466 - mean_absolute_error: 16.4843 - val_loss: 256.8981 - val_mean_absolute_error: 13.3286\n",
      ".Epoch 6/500\n",
      "323/323 [==============================] - 0s 61us/step - loss: 265.9893 - mean_absolute_error: 14.1901 - val_loss: 191.3831 - val_mean_absolute_error: 11.2482\n",
      ".Epoch 7/500\n",
      "323/323 [==============================] - 0s 61us/step - loss: 189.0110 - mean_absolute_error: 11.6533 - val_loss: 132.5146 - val_mean_absolute_error: 9.1536\n",
      ".Epoch 8/500\n",
      "323/323 [==============================] - 0s 61us/step - loss: 123.8849 - mean_absolute_error: 9.0706 - val_loss: 95.3243 - val_mean_absolute_error: 7.2566\n",
      ".Epoch 9/500\n",
      "323/323 [==============================] - 0s 63us/step - loss: 82.0501 - mean_absolute_error: 7.1518 - val_loss: 74.0992 - val_mean_absolute_error: 6.2770\n",
      ".Epoch 10/500\n",
      "323/323 [==============================] - 0s 60us/step - loss: 57.8319 - mean_absolute_error: 5.9264 - val_loss: 60.2401 - val_mean_absolute_error: 5.5123\n",
      ".Epoch 11/500\n",
      "323/323 [==============================] - 0s 64us/step - loss: 42.1772 - mean_absolute_error: 5.0381 - val_loss: 52.8804 - val_mean_absolute_error: 5.0679\n",
      ".Epoch 12/500\n",
      "323/323 [==============================] - 0s 60us/step - loss: 34.2593 - mean_absolute_error: 4.4621 - val_loss: 47.9362 - val_mean_absolute_error: 4.7929\n",
      ".Epoch 13/500\n",
      "323/323 [==============================] - 0s 61us/step - loss: 28.1525 - mean_absolute_error: 4.0020 - val_loss: 42.3945 - val_mean_absolute_error: 4.4127\n",
      ".Epoch 14/500\n",
      "323/323 [==============================] - 0s 58us/step - loss: 24.6569 - mean_absolute_error: 3.7132 - val_loss: 38.1015 - val_mean_absolute_error: 4.1077\n",
      ".Epoch 15/500\n",
      "323/323 [==============================] - 0s 70us/step - loss: 22.1404 - mean_absolute_error: 3.4175 - val_loss: 34.9259 - val_mean_absolute_error: 3.9886\n",
      ".Epoch 16/500\n",
      "323/323 [==============================] - 0s 65us/step - loss: 20.3745 - mean_absolute_error: 3.2487 - val_loss: 31.6696 - val_mean_absolute_error: 3.7361\n",
      ".Epoch 17/500\n",
      "323/323 [==============================] - 0s 58us/step - loss: 18.9697 - mean_absolute_error: 3.0971 - val_loss: 29.4154 - val_mean_absolute_error: 3.5769\n",
      ".Epoch 18/500\n",
      "323/323 [==============================] - 0s 59us/step - loss: 17.8429 - mean_absolute_error: 2.9881 - val_loss: 27.7913 - val_mean_absolute_error: 3.4162\n",
      ".Epoch 19/500\n",
      "323/323 [==============================] - 0s 64us/step - loss: 17.0237 - mean_absolute_error: 2.9042 - val_loss: 26.2089 - val_mean_absolute_error: 3.3149\n",
      ".Epoch 20/500\n",
      "323/323 [==============================] - 0s 57us/step - loss: 16.1268 - mean_absolute_error: 2.7914 - val_loss: 24.2725 - val_mean_absolute_error: 3.3985\n",
      ".Epoch 21/500\n",
      "323/323 [==============================] - 0s 64us/step - loss: 15.2470 - mean_absolute_error: 2.6769 - val_loss: 22.9893 - val_mean_absolute_error: 3.3897\n",
      ".Epoch 22/500\n",
      "323/323 [==============================] - 0s 51us/step - loss: 14.3706 - mean_absolute_error: 2.6408 - val_loss: 23.4699 - val_mean_absolute_error: 3.1366\n",
      ".Epoch 23/500\n",
      "323/323 [==============================] - 0s 55us/step - loss: 14.1714 - mean_absolute_error: 2.5617 - val_loss: 20.6004 - val_mean_absolute_error: 3.0312\n",
      ".Epoch 24/500\n",
      "323/323 [==============================] - 0s 65us/step - loss: 13.5412 - mean_absolute_error: 2.5270 - val_loss: 19.7994 - val_mean_absolute_error: 3.0060\n",
      ".Epoch 25/500\n",
      "323/323 [==============================] - 0s 62us/step - loss: 13.0439 - mean_absolute_error: 2.4808 - val_loss: 19.3231 - val_mean_absolute_error: 2.8774\n",
      ".Epoch 26/500\n",
      "323/323 [==============================] - 0s 56us/step - loss: 12.8287 - mean_absolute_error: 2.4547 - val_loss: 18.0623 - val_mean_absolute_error: 2.9036\n",
      ".Epoch 27/500\n",
      "323/323 [==============================] - 0s 58us/step - loss: 12.2696 - mean_absolute_error: 2.3953 - val_loss: 17.5610 - val_mean_absolute_error: 2.8953\n",
      ".Epoch 28/500\n",
      "323/323 [==============================] - 0s 60us/step - loss: 11.8994 - mean_absolute_error: 2.3798 - val_loss: 16.8565 - val_mean_absolute_error: 2.8076\n",
      ".Epoch 29/500\n",
      "323/323 [==============================] - 0s 62us/step - loss: 11.6421 - mean_absolute_error: 2.3403 - val_loss: 17.2646 - val_mean_absolute_error: 2.7672\n",
      ".Epoch 30/500\n",
      "323/323 [==============================] - 0s 61us/step - loss: 11.4641 - mean_absolute_error: 2.3447 - val_loss: 16.4491 - val_mean_absolute_error: 2.8379\n",
      ".Epoch 31/500\n",
      "323/323 [==============================] - 0s 60us/step - loss: 11.4412 - mean_absolute_error: 2.2995 - val_loss: 17.2801 - val_mean_absolute_error: 2.7808\n",
      ".Epoch 32/500\n",
      "323/323 [==============================] - 0s 61us/step - loss: 11.2753 - mean_absolute_error: 2.3148 - val_loss: 15.5902 - val_mean_absolute_error: 2.7266\n",
      ".Epoch 33/500\n",
      "323/323 [==============================] - 0s 82us/step - loss: 10.8653 - mean_absolute_error: 2.2778 - val_loss: 15.5680 - val_mean_absolute_error: 2.7623\n",
      ".Epoch 34/500\n",
      "323/323 [==============================] - 0s 60us/step - loss: 10.6143 - mean_absolute_error: 2.2546 - val_loss: 15.9053 - val_mean_absolute_error: 2.6577\n",
      ".Epoch 35/500\n",
      "323/323 [==============================] - 0s 63us/step - loss: 10.7333 - mean_absolute_error: 2.2980 - val_loss: 16.0061 - val_mean_absolute_error: 2.6159\n",
      ".Epoch 36/500\n",
      "323/323 [==============================] - 0s 60us/step - loss: 10.4861 - mean_absolute_error: 2.2603 - val_loss: 15.0910 - val_mean_absolute_error: 2.7406\n",
      ".Epoch 37/500\n",
      "323/323 [==============================] - 0s 59us/step - loss: 10.1361 - mean_absolute_error: 2.2161 - val_loss: 16.2450 - val_mean_absolute_error: 2.6623\n",
      ".Epoch 38/500\n",
      "323/323 [==============================] - 0s 73us/step - loss: 10.2542 - mean_absolute_error: 2.2356 - val_loss: 14.4743 - val_mean_absolute_error: 2.6009\n",
      ".Epoch 39/500\n",
      "323/323 [==============================] - 0s 55us/step - loss: 9.8747 - mean_absolute_error: 2.2058 - val_loss: 14.4334 - val_mean_absolute_error: 2.7237\n",
      ".Epoch 40/500\n",
      "323/323 [==============================] - 0s 53us/step - loss: 9.8644 - mean_absolute_error: 2.2013 - val_loss: 14.1275 - val_mean_absolute_error: 2.6021\n",
      ".Epoch 41/500\n",
      "323/323 [==============================] - 0s 65us/step - loss: 9.7202 - mean_absolute_error: 2.2179 - val_loss: 13.8904 - val_mean_absolute_error: 2.5744\n",
      ".Epoch 42/500\n",
      "323/323 [==============================] - 0s 59us/step - loss: 9.6482 - mean_absolute_error: 2.1813 - val_loss: 13.9006 - val_mean_absolute_error: 2.5990\n",
      ".Epoch 43/500\n",
      "323/323 [==============================] - 0s 48us/step - loss: 9.6559 - mean_absolute_error: 2.2024 - val_loss: 14.2651 - val_mean_absolute_error: 2.5461\n",
      ".Epoch 44/500\n",
      "323/323 [==============================] - 0s 56us/step - loss: 9.3588 - mean_absolute_error: 2.1881 - val_loss: 13.8728 - val_mean_absolute_error: 2.5238\n",
      ".Epoch 45/500\n",
      "323/323 [==============================] - 0s 54us/step - loss: 9.1978 - mean_absolute_error: 2.1269 - val_loss: 13.7350 - val_mean_absolute_error: 2.5965\n",
      ".Epoch 46/500\n",
      "323/323 [==============================] - 0s 56us/step - loss: 9.3969 - mean_absolute_error: 2.1589 - val_loss: 13.6251 - val_mean_absolute_error: 2.5069\n",
      ".Epoch 47/500\n",
      "323/323 [==============================] - 0s 55us/step - loss: 9.0622 - mean_absolute_error: 2.1233 - val_loss: 13.6483 - val_mean_absolute_error: 2.6599\n",
      ".Epoch 48/500\n",
      "323/323 [==============================] - 0s 53us/step - loss: 9.2066 - mean_absolute_error: 2.1249 - val_loss: 14.5833 - val_mean_absolute_error: 2.8830\n"
     ]
    },
    {
     "name": "stdout",
     "output_type": "stream",
     "text": [
      ".Epoch 49/500\n",
      "323/323 [==============================] - 0s 56us/step - loss: 9.2072 - mean_absolute_error: 2.1861 - val_loss: 13.4157 - val_mean_absolute_error: 2.4730\n",
      ".Epoch 50/500\n",
      "323/323 [==============================] - 0s 54us/step - loss: 8.7881 - mean_absolute_error: 2.1010 - val_loss: 13.6815 - val_mean_absolute_error: 2.5137\n",
      ".Epoch 51/500\n",
      "323/323 [==============================] - 0s 48us/step - loss: 8.6198 - mean_absolute_error: 2.0832 - val_loss: 13.4562 - val_mean_absolute_error: 2.6084\n",
      ".Epoch 52/500\n",
      "323/323 [==============================] - 0s 51us/step - loss: 9.0398 - mean_absolute_error: 2.1477 - val_loss: 14.1044 - val_mean_absolute_error: 2.7735\n",
      ".Epoch 53/500\n",
      "323/323 [==============================] - 0s 53us/step - loss: 8.7952 - mean_absolute_error: 2.1094 - val_loss: 13.5603 - val_mean_absolute_error: 2.4574\n",
      ".Epoch 54/500\n",
      "323/323 [==============================] - 0s 54us/step - loss: 8.7333 - mean_absolute_error: 2.0684 - val_loss: 14.6575 - val_mean_absolute_error: 2.6433\n",
      ".Epoch 55/500\n",
      "323/323 [==============================] - 0s 51us/step - loss: 8.7361 - mean_absolute_error: 2.0735 - val_loss: 13.2139 - val_mean_absolute_error: 2.6445\n",
      ".Epoch 56/500\n",
      "323/323 [==============================] - 0s 54us/step - loss: 8.5476 - mean_absolute_error: 2.0839 - val_loss: 12.8060 - val_mean_absolute_error: 2.4507\n",
      ".Epoch 57/500\n",
      "323/323 [==============================] - 0s 52us/step - loss: 8.5048 - mean_absolute_error: 2.0411 - val_loss: 12.8531 - val_mean_absolute_error: 2.6204\n",
      ".Epoch 58/500\n",
      "323/323 [==============================] - 0s 53us/step - loss: 8.3282 - mean_absolute_error: 2.0077 - val_loss: 13.1943 - val_mean_absolute_error: 2.5322\n",
      ".Epoch 59/500\n",
      "323/323 [==============================] - 0s 53us/step - loss: 8.3118 - mean_absolute_error: 2.0239 - val_loss: 12.9912 - val_mean_absolute_error: 2.4247\n",
      ".Epoch 60/500\n",
      "323/323 [==============================] - 0s 56us/step - loss: 8.2538 - mean_absolute_error: 2.0149 - val_loss: 12.5886 - val_mean_absolute_error: 2.5687\n",
      ".Epoch 61/500\n",
      "323/323 [==============================] - 0s 53us/step - loss: 8.0765 - mean_absolute_error: 2.0164 - val_loss: 12.1092 - val_mean_absolute_error: 2.4371\n",
      ".Epoch 62/500\n",
      "323/323 [==============================] - 0s 54us/step - loss: 8.1309 - mean_absolute_error: 2.0175 - val_loss: 12.2689 - val_mean_absolute_error: 2.4260\n",
      ".Epoch 63/500\n",
      "323/323 [==============================] - 0s 54us/step - loss: 8.0321 - mean_absolute_error: 2.0123 - val_loss: 13.1244 - val_mean_absolute_error: 2.4235\n",
      ".Epoch 64/500\n",
      "323/323 [==============================] - 0s 54us/step - loss: 8.0486 - mean_absolute_error: 1.9641 - val_loss: 12.8144 - val_mean_absolute_error: 2.5055\n",
      ".Epoch 65/500\n",
      "323/323 [==============================] - 0s 55us/step - loss: 7.9641 - mean_absolute_error: 2.0006 - val_loss: 12.6491 - val_mean_absolute_error: 2.4672\n",
      ".Epoch 66/500\n",
      "323/323 [==============================] - 0s 52us/step - loss: 7.8309 - mean_absolute_error: 1.9936 - val_loss: 12.2113 - val_mean_absolute_error: 2.4215\n",
      ".Epoch 67/500\n",
      "323/323 [==============================] - 0s 67us/step - loss: 7.7723 - mean_absolute_error: 1.9823 - val_loss: 13.0841 - val_mean_absolute_error: 2.5580\n",
      ".Epoch 68/500\n",
      "323/323 [==============================] - 0s 63us/step - loss: 7.9036 - mean_absolute_error: 2.0038 - val_loss: 12.4666 - val_mean_absolute_error: 2.6036\n",
      ".Epoch 69/500\n",
      "323/323 [==============================] - 0s 50us/step - loss: 7.7123 - mean_absolute_error: 1.9828 - val_loss: 12.7691 - val_mean_absolute_error: 2.5020\n",
      ".Epoch 70/500\n",
      "323/323 [==============================] - 0s 54us/step - loss: 7.7688 - mean_absolute_error: 1.9545 - val_loss: 13.0620 - val_mean_absolute_error: 2.5895\n",
      ".Epoch 71/500\n",
      "323/323 [==============================] - 0s 56us/step - loss: 7.6648 - mean_absolute_error: 1.9458 - val_loss: 12.2166 - val_mean_absolute_error: 2.4163\n",
      ".Epoch 72/500\n",
      "323/323 [==============================] - 0s 56us/step - loss: 7.5076 - mean_absolute_error: 1.9490 - val_loss: 13.3967 - val_mean_absolute_error: 2.6304\n",
      ".Epoch 73/500\n",
      "323/323 [==============================] - 0s 53us/step - loss: 7.4212 - mean_absolute_error: 1.9211 - val_loss: 12.7136 - val_mean_absolute_error: 2.4342\n",
      ".Epoch 74/500\n",
      "323/323 [==============================] - 0s 55us/step - loss: 7.6584 - mean_absolute_error: 1.9119 - val_loss: 11.8884 - val_mean_absolute_error: 2.3855\n",
      ".Epoch 75/500\n",
      "323/323 [==============================] - 0s 58us/step - loss: 7.3826 - mean_absolute_error: 1.9144 - val_loss: 11.8781 - val_mean_absolute_error: 2.3625\n",
      ".Epoch 76/500\n",
      "323/323 [==============================] - 0s 56us/step - loss: 7.3322 - mean_absolute_error: 1.9235 - val_loss: 12.9967 - val_mean_absolute_error: 2.4738\n",
      ".Epoch 77/500\n",
      "323/323 [==============================] - 0s 57us/step - loss: 7.5485 - mean_absolute_error: 1.9045 - val_loss: 12.1644 - val_mean_absolute_error: 2.3551\n",
      ".Epoch 78/500\n",
      "323/323 [==============================] - 0s 53us/step - loss: 7.3280 - mean_absolute_error: 1.9298 - val_loss: 12.0372 - val_mean_absolute_error: 2.4383\n",
      ".Epoch 79/500\n",
      "323/323 [==============================] - 0s 52us/step - loss: 7.1298 - mean_absolute_error: 1.8727 - val_loss: 12.0042 - val_mean_absolute_error: 2.3778\n",
      ".Epoch 80/500\n",
      "323/323 [==============================] - 0s 50us/step - loss: 7.2287 - mean_absolute_error: 1.8787 - val_loss: 12.1022 - val_mean_absolute_error: 2.3753\n",
      ".Epoch 81/500\n",
      "323/323 [==============================] - 0s 56us/step - loss: 7.0226 - mean_absolute_error: 1.8624 - val_loss: 12.4552 - val_mean_absolute_error: 2.6238\n",
      ".Epoch 82/500\n",
      "323/323 [==============================] - 0s 58us/step - loss: 7.2741 - mean_absolute_error: 1.8704 - val_loss: 11.7452 - val_mean_absolute_error: 2.3740\n",
      ".Epoch 83/500\n",
      "323/323 [==============================] - 0s 54us/step - loss: 7.1073 - mean_absolute_error: 1.8991 - val_loss: 12.6728 - val_mean_absolute_error: 2.4595\n",
      ".Epoch 84/500\n",
      "323/323 [==============================] - 0s 56us/step - loss: 7.4520 - mean_absolute_error: 1.8998 - val_loss: 11.4853 - val_mean_absolute_error: 2.4049\n",
      ".Epoch 85/500\n",
      "323/323 [==============================] - 0s 55us/step - loss: 7.0830 - mean_absolute_error: 1.8765 - val_loss: 11.7010 - val_mean_absolute_error: 2.3442\n",
      ".Epoch 86/500\n",
      "323/323 [==============================] - 0s 55us/step - loss: 7.0197 - mean_absolute_error: 1.8856 - val_loss: 13.0157 - val_mean_absolute_error: 2.5591\n",
      ".Epoch 87/500\n",
      "323/323 [==============================] - 0s 52us/step - loss: 7.0839 - mean_absolute_error: 1.9014 - val_loss: 12.1477 - val_mean_absolute_error: 2.4124\n",
      ".Epoch 88/500\n",
      "323/323 [==============================] - 0s 52us/step - loss: 6.8716 - mean_absolute_error: 1.8165 - val_loss: 11.5861 - val_mean_absolute_error: 2.3971\n",
      ".Epoch 89/500\n",
      "323/323 [==============================] - 0s 62us/step - loss: 6.9019 - mean_absolute_error: 1.8685 - val_loss: 12.3662 - val_mean_absolute_error: 2.4565\n",
      ".Epoch 90/500\n",
      "323/323 [==============================] - 0s 53us/step - loss: 7.0532 - mean_absolute_error: 1.8412 - val_loss: 11.9354 - val_mean_absolute_error: 2.5033\n",
      ".Epoch 91/500\n",
      "323/323 [==============================] - 0s 54us/step - loss: 6.8875 - mean_absolute_error: 1.8629 - val_loss: 11.5821 - val_mean_absolute_error: 2.5312\n",
      ".Epoch 92/500\n",
      "323/323 [==============================] - 0s 69us/step - loss: 6.8219 - mean_absolute_error: 1.8495 - val_loss: 11.1786 - val_mean_absolute_error: 2.3857\n",
      ".Epoch 93/500\n",
      "323/323 [==============================] - 0s 59us/step - loss: 6.6796 - mean_absolute_error: 1.8147 - val_loss: 12.0829 - val_mean_absolute_error: 2.5869\n",
      ".Epoch 94/500\n",
      "323/323 [==============================] - 0s 49us/step - loss: 6.7470 - mean_absolute_error: 1.8184 - val_loss: 12.5316 - val_mean_absolute_error: 2.3840\n",
      ".Epoch 95/500\n",
      "323/323 [==============================] - 0s 52us/step - loss: 6.7877 - mean_absolute_error: 1.8449 - val_loss: 11.5051 - val_mean_absolute_error: 2.5151\n",
      ".Epoch 96/500\n",
      "323/323 [==============================] - 0s 52us/step - loss: 6.5438 - mean_absolute_error: 1.8253 - val_loss: 12.1313 - val_mean_absolute_error: 2.5376\n",
      ".Epoch 97/500\n"
     ]
    },
    {
     "name": "stdout",
     "output_type": "stream",
     "text": [
      "323/323 [==============================] - 0s 56us/step - loss: 6.8408 - mean_absolute_error: 1.8595 - val_loss: 11.5044 - val_mean_absolute_error: 2.4717\n",
      ".Epoch 98/500\n",
      "323/323 [==============================] - 0s 58us/step - loss: 6.5718 - mean_absolute_error: 1.8174 - val_loss: 12.4830 - val_mean_absolute_error: 2.6923\n",
      ".Epoch 99/500\n",
      "323/323 [==============================] - 0s 45us/step - loss: 6.4729 - mean_absolute_error: 1.8207 - val_loss: 11.1844 - val_mean_absolute_error: 2.4143\n",
      ".Epoch 100/500\n",
      "323/323 [==============================] - 0s 51us/step - loss: 6.4636 - mean_absolute_error: 1.7857 - val_loss: 11.0636 - val_mean_absolute_error: 2.3993\n",
      ".Epoch 101/500\n",
      "323/323 [==============================] - 0s 54us/step - loss: 6.6304 - mean_absolute_error: 1.8227 - val_loss: 11.5929 - val_mean_absolute_error: 2.3451\n",
      "\n",
      ".Epoch 102/500\n",
      "323/323 [==============================] - 0s 54us/step - loss: 6.1978 - mean_absolute_error: 1.7770 - val_loss: 11.0923 - val_mean_absolute_error: 2.3690\n",
      ".Epoch 103/500\n",
      "323/323 [==============================] - 0s 52us/step - loss: 6.4720 - mean_absolute_error: 1.7716 - val_loss: 11.1690 - val_mean_absolute_error: 2.3677\n",
      ".Epoch 104/500\n",
      "323/323 [==============================] - 0s 59us/step - loss: 6.3408 - mean_absolute_error: 1.7650 - val_loss: 11.6322 - val_mean_absolute_error: 2.5572\n",
      ".Epoch 105/500\n",
      "323/323 [==============================] - 0s 52us/step - loss: 6.2257 - mean_absolute_error: 1.7694 - val_loss: 11.3313 - val_mean_absolute_error: 2.3730\n",
      ".Epoch 106/500\n",
      "323/323 [==============================] - 0s 51us/step - loss: 6.1286 - mean_absolute_error: 1.7369 - val_loss: 10.8312 - val_mean_absolute_error: 2.2951\n",
      ".Epoch 107/500\n",
      "323/323 [==============================] - 0s 60us/step - loss: 6.2693 - mean_absolute_error: 1.7394 - val_loss: 11.0030 - val_mean_absolute_error: 2.3547\n",
      ".Epoch 108/500\n",
      "323/323 [==============================] - 0s 56us/step - loss: 6.2430 - mean_absolute_error: 1.7753 - val_loss: 10.7381 - val_mean_absolute_error: 2.3239\n",
      ".Epoch 109/500\n",
      "323/323 [==============================] - 0s 54us/step - loss: 6.0575 - mean_absolute_error: 1.7397 - val_loss: 10.9202 - val_mean_absolute_error: 2.3608\n",
      ".Epoch 110/500\n",
      "323/323 [==============================] - 0s 53us/step - loss: 6.1271 - mean_absolute_error: 1.7263 - val_loss: 11.9317 - val_mean_absolute_error: 2.3888\n",
      ".Epoch 111/500\n",
      "323/323 [==============================] - 0s 53us/step - loss: 6.3258 - mean_absolute_error: 1.7473 - val_loss: 11.3953 - val_mean_absolute_error: 2.4374\n",
      ".Epoch 112/500\n",
      "323/323 [==============================] - 0s 55us/step - loss: 6.1691 - mean_absolute_error: 1.7267 - val_loss: 11.3247 - val_mean_absolute_error: 2.4699\n",
      ".Epoch 113/500\n",
      "323/323 [==============================] - 0s 55us/step - loss: 6.0679 - mean_absolute_error: 1.7308 - val_loss: 11.5392 - val_mean_absolute_error: 2.4763\n",
      ".Epoch 114/500\n",
      "323/323 [==============================] - 0s 54us/step - loss: 6.1720 - mean_absolute_error: 1.7673 - val_loss: 11.1379 - val_mean_absolute_error: 2.4696\n",
      ".Epoch 115/500\n",
      "323/323 [==============================] - 0s 53us/step - loss: 6.1846 - mean_absolute_error: 1.7559 - val_loss: 11.2577 - val_mean_absolute_error: 2.5017\n",
      ".Epoch 116/500\n",
      "323/323 [==============================] - 0s 57us/step - loss: 6.0156 - mean_absolute_error: 1.7621 - val_loss: 11.3139 - val_mean_absolute_error: 2.3399\n",
      ".Epoch 117/500\n",
      "323/323 [==============================] - 0s 53us/step - loss: 6.0178 - mean_absolute_error: 1.7219 - val_loss: 11.7858 - val_mean_absolute_error: 2.5680\n",
      ".Epoch 118/500\n",
      "323/323 [==============================] - 0s 52us/step - loss: 6.0002 - mean_absolute_error: 1.7558 - val_loss: 11.3471 - val_mean_absolute_error: 2.3899\n",
      ".Epoch 119/500\n",
      "323/323 [==============================] - 0s 60us/step - loss: 5.9299 - mean_absolute_error: 1.7043 - val_loss: 10.5107 - val_mean_absolute_error: 2.3101\n",
      ".Epoch 120/500\n",
      "323/323 [==============================] - 0s 52us/step - loss: 5.8680 - mean_absolute_error: 1.7005 - val_loss: 10.6097 - val_mean_absolute_error: 2.3785\n",
      ".Epoch 121/500\n",
      "323/323 [==============================] - 0s 58us/step - loss: 5.9599 - mean_absolute_error: 1.7440 - val_loss: 10.5613 - val_mean_absolute_error: 2.3440\n",
      ".Epoch 122/500\n",
      "323/323 [==============================] - 0s 59us/step - loss: 5.8965 - mean_absolute_error: 1.7026 - val_loss: 11.4113 - val_mean_absolute_error: 2.3900\n",
      ".Epoch 123/500\n",
      "323/323 [==============================] - 0s 55us/step - loss: 5.9058 - mean_absolute_error: 1.6721 - val_loss: 10.6788 - val_mean_absolute_error: 2.3612\n",
      ".Epoch 124/500\n",
      "323/323 [==============================] - 0s 59us/step - loss: 5.6386 - mean_absolute_error: 1.6694 - val_loss: 12.2059 - val_mean_absolute_error: 2.7802\n",
      ".Epoch 125/500\n",
      "323/323 [==============================] - 0s 62us/step - loss: 6.1101 - mean_absolute_error: 1.7868 - val_loss: 11.0148 - val_mean_absolute_error: 2.3906\n",
      ".Epoch 126/500\n",
      "323/323 [==============================] - 0s 54us/step - loss: 5.7849 - mean_absolute_error: 1.7280 - val_loss: 10.6136 - val_mean_absolute_error: 2.3285\n",
      ".Epoch 127/500\n",
      "323/323 [==============================] - 0s 60us/step - loss: 5.6438 - mean_absolute_error: 1.6943 - val_loss: 10.5086 - val_mean_absolute_error: 2.3537\n",
      ".Epoch 128/500\n",
      "323/323 [==============================] - 0s 62us/step - loss: 5.7557 - mean_absolute_error: 1.7014 - val_loss: 10.8041 - val_mean_absolute_error: 2.3741\n",
      ".Epoch 129/500\n",
      "323/323 [==============================] - 0s 61us/step - loss: 5.5166 - mean_absolute_error: 1.6695 - val_loss: 11.9573 - val_mean_absolute_error: 2.4720\n",
      ".Epoch 130/500\n",
      "323/323 [==============================] - 0s 55us/step - loss: 5.7928 - mean_absolute_error: 1.6731 - val_loss: 10.2766 - val_mean_absolute_error: 2.2939\n",
      ".Epoch 131/500\n",
      "323/323 [==============================] - 0s 56us/step - loss: 5.5051 - mean_absolute_error: 1.6604 - val_loss: 11.5789 - val_mean_absolute_error: 2.4588\n",
      ".Epoch 132/500\n",
      "323/323 [==============================] - 0s 61us/step - loss: 5.6489 - mean_absolute_error: 1.6828 - val_loss: 10.9208 - val_mean_absolute_error: 2.4155\n",
      ".Epoch 133/500\n",
      "323/323 [==============================] - 0s 57us/step - loss: 5.5650 - mean_absolute_error: 1.6633 - val_loss: 11.7938 - val_mean_absolute_error: 2.6463\n",
      ".Epoch 134/500\n",
      "323/323 [==============================] - 0s 66us/step - loss: 5.7445 - mean_absolute_error: 1.7166 - val_loss: 10.9093 - val_mean_absolute_error: 2.4282\n",
      ".Epoch 135/500\n",
      "323/323 [==============================] - 0s 54us/step - loss: 5.5994 - mean_absolute_error: 1.6457 - val_loss: 10.6795 - val_mean_absolute_error: 2.3398\n",
      ".Epoch 136/500\n",
      "323/323 [==============================] - 0s 58us/step - loss: 5.5346 - mean_absolute_error: 1.6545 - val_loss: 11.6540 - val_mean_absolute_error: 2.4948\n",
      ".Epoch 137/500\n",
      "323/323 [==============================] - 0s 54us/step - loss: 5.5726 - mean_absolute_error: 1.6624 - val_loss: 11.2303 - val_mean_absolute_error: 2.4392\n",
      ".Epoch 138/500\n",
      "323/323 [==============================] - 0s 61us/step - loss: 5.4175 - mean_absolute_error: 1.6491 - val_loss: 10.8150 - val_mean_absolute_error: 2.4448\n",
      ".Epoch 139/500\n",
      "323/323 [==============================] - 0s 55us/step - loss: 5.6780 - mean_absolute_error: 1.6654 - val_loss: 10.2031 - val_mean_absolute_error: 2.2998\n",
      ".Epoch 140/500\n",
      "323/323 [==============================] - 0s 67us/step - loss: 5.6551 - mean_absolute_error: 1.6546 - val_loss: 10.1663 - val_mean_absolute_error: 2.3131\n",
      ".Epoch 141/500\n",
      "323/323 [==============================] - 0s 60us/step - loss: 5.3755 - mean_absolute_error: 1.6294 - val_loss: 10.7467 - val_mean_absolute_error: 2.3948\n",
      ".Epoch 142/500\n",
      "323/323 [==============================] - 0s 61us/step - loss: 5.3514 - mean_absolute_error: 1.6309 - val_loss: 11.1021 - val_mean_absolute_error: 2.5553\n",
      ".Epoch 143/500\n",
      "323/323 [==============================] - 0s 63us/step - loss: 5.5498 - mean_absolute_error: 1.6483 - val_loss: 10.6361 - val_mean_absolute_error: 2.4398\n",
      ".Epoch 144/500\n",
      "323/323 [==============================] - 0s 52us/step - loss: 5.2059 - mean_absolute_error: 1.6119 - val_loss: 10.2407 - val_mean_absolute_error: 2.3087\n",
      ".Epoch 145/500\n"
     ]
    },
    {
     "name": "stdout",
     "output_type": "stream",
     "text": [
      "323/323 [==============================] - 0s 64us/step - loss: 5.3415 - mean_absolute_error: 1.6300 - val_loss: 10.5036 - val_mean_absolute_error: 2.3842\n",
      ".Epoch 146/500\n",
      "323/323 [==============================] - 0s 65us/step - loss: 5.2890 - mean_absolute_error: 1.6339 - val_loss: 10.2606 - val_mean_absolute_error: 2.3264\n",
      ".Epoch 147/500\n",
      "323/323 [==============================] - 0s 52us/step - loss: 5.2180 - mean_absolute_error: 1.5856 - val_loss: 10.6009 - val_mean_absolute_error: 2.3141\n",
      ".Epoch 148/500\n",
      "323/323 [==============================] - 0s 58us/step - loss: 5.1889 - mean_absolute_error: 1.5657 - val_loss: 11.6203 - val_mean_absolute_error: 2.5435\n",
      ".Epoch 149/500\n",
      "323/323 [==============================] - 0s 53us/step - loss: 5.2194 - mean_absolute_error: 1.5963 - val_loss: 11.0082 - val_mean_absolute_error: 2.3816\n",
      ".Epoch 150/500\n",
      "323/323 [==============================] - 0s 51us/step - loss: 5.3106 - mean_absolute_error: 1.6270 - val_loss: 10.2740 - val_mean_absolute_error: 2.3037\n",
      ".Epoch 151/500\n",
      "323/323 [==============================] - 0s 53us/step - loss: 5.1217 - mean_absolute_error: 1.5735 - val_loss: 11.8403 - val_mean_absolute_error: 2.6414\n",
      ".Epoch 152/500\n",
      "323/323 [==============================] - 0s 51us/step - loss: 5.3779 - mean_absolute_error: 1.6638 - val_loss: 10.2021 - val_mean_absolute_error: 2.3491\n",
      ".Epoch 153/500\n",
      "323/323 [==============================] - 0s 54us/step - loss: 5.2588 - mean_absolute_error: 1.6382 - val_loss: 10.0161 - val_mean_absolute_error: 2.2768\n",
      ".Epoch 154/500\n",
      "323/323 [==============================] - 0s 51us/step - loss: 5.0208 - mean_absolute_error: 1.5525 - val_loss: 12.0982 - val_mean_absolute_error: 2.5477\n",
      ".Epoch 155/500\n",
      "323/323 [==============================] - 0s 63us/step - loss: 5.4487 - mean_absolute_error: 1.6254 - val_loss: 10.0784 - val_mean_absolute_error: 2.2843\n",
      ".Epoch 156/500\n",
      "323/323 [==============================] - 0s 53us/step - loss: 5.0150 - mean_absolute_error: 1.5733 - val_loss: 10.3297 - val_mean_absolute_error: 2.3983\n",
      ".Epoch 157/500\n",
      "323/323 [==============================] - 0s 52us/step - loss: 5.1888 - mean_absolute_error: 1.5906 - val_loss: 11.3020 - val_mean_absolute_error: 2.4650\n",
      ".Epoch 158/500\n",
      "323/323 [==============================] - 0s 52us/step - loss: 4.9915 - mean_absolute_error: 1.5889 - val_loss: 10.4681 - val_mean_absolute_error: 2.4050\n",
      ".Epoch 159/500\n",
      "323/323 [==============================] - 0s 59us/step - loss: 4.9966 - mean_absolute_error: 1.5705 - val_loss: 10.4833 - val_mean_absolute_error: 2.3693\n",
      ".Epoch 160/500\n",
      "323/323 [==============================] - 0s 62us/step - loss: 4.9951 - mean_absolute_error: 1.5602 - val_loss: 10.3912 - val_mean_absolute_error: 2.3531\n",
      ".Epoch 161/500\n",
      "323/323 [==============================] - 0s 51us/step - loss: 4.9944 - mean_absolute_error: 1.5790 - val_loss: 10.5852 - val_mean_absolute_error: 2.4375\n",
      ".Epoch 162/500\n",
      "323/323 [==============================] - 0s 50us/step - loss: 4.9851 - mean_absolute_error: 1.5889 - val_loss: 10.2655 - val_mean_absolute_error: 2.3309\n",
      ".Epoch 163/500\n",
      "323/323 [==============================] - 0s 53us/step - loss: 4.9524 - mean_absolute_error: 1.5486 - val_loss: 11.7608 - val_mean_absolute_error: 2.6122\n",
      ".Epoch 164/500\n",
      "323/323 [==============================] - 0s 59us/step - loss: 5.0177 - mean_absolute_error: 1.5835 - val_loss: 10.5464 - val_mean_absolute_error: 2.4618\n",
      ".Epoch 165/500\n",
      "323/323 [==============================] - 0s 57us/step - loss: 4.7840 - mean_absolute_error: 1.5482 - val_loss: 10.8847 - val_mean_absolute_error: 2.4028\n",
      ".Epoch 166/500\n",
      "323/323 [==============================] - 0s 54us/step - loss: 4.9564 - mean_absolute_error: 1.5442 - val_loss: 11.4322 - val_mean_absolute_error: 2.5362\n",
      ".Epoch 167/500\n",
      "323/323 [==============================] - 0s 57us/step - loss: 5.1717 - mean_absolute_error: 1.6095 - val_loss: 10.7383 - val_mean_absolute_error: 2.4535\n",
      ".Epoch 168/500\n",
      "323/323 [==============================] - 0s 54us/step - loss: 4.7007 - mean_absolute_error: 1.5303 - val_loss: 10.1230 - val_mean_absolute_error: 2.3222\n",
      ".Epoch 169/500\n",
      "323/323 [==============================] - 0s 51us/step - loss: 4.9763 - mean_absolute_error: 1.5515 - val_loss: 9.9099 - val_mean_absolute_error: 2.3364\n",
      ".Epoch 170/500\n",
      "323/323 [==============================] - 0s 55us/step - loss: 4.8626 - mean_absolute_error: 1.5597 - val_loss: 10.7132 - val_mean_absolute_error: 2.4161\n",
      ".Epoch 171/500\n",
      "323/323 [==============================] - 0s 57us/step - loss: 4.7268 - mean_absolute_error: 1.5383 - val_loss: 9.9492 - val_mean_absolute_error: 2.2832\n",
      ".Epoch 172/500\n",
      "323/323 [==============================] - 0s 54us/step - loss: 4.7859 - mean_absolute_error: 1.5428 - val_loss: 9.9827 - val_mean_absolute_error: 2.3362\n",
      ".Epoch 173/500\n",
      "323/323 [==============================] - 0s 51us/step - loss: 4.8276 - mean_absolute_error: 1.5400 - val_loss: 10.0003 - val_mean_absolute_error: 2.3617\n",
      ".Epoch 174/500\n",
      "323/323 [==============================] - 0s 52us/step - loss: 4.6669 - mean_absolute_error: 1.5255 - val_loss: 9.9824 - val_mean_absolute_error: 2.2952\n",
      ".Epoch 175/500\n",
      "323/323 [==============================] - 0s 56us/step - loss: 4.8818 - mean_absolute_error: 1.5608 - val_loss: 10.2066 - val_mean_absolute_error: 2.3668\n",
      ".Epoch 176/500\n",
      "323/323 [==============================] - 0s 56us/step - loss: 4.7254 - mean_absolute_error: 1.5313 - val_loss: 10.4514 - val_mean_absolute_error: 2.3929\n",
      ".Epoch 177/500\n",
      "323/323 [==============================] - 0s 53us/step - loss: 4.7009 - mean_absolute_error: 1.5153 - val_loss: 10.2623 - val_mean_absolute_error: 2.3426\n",
      ".Epoch 178/500\n",
      "323/323 [==============================] - 0s 58us/step - loss: 4.7333 - mean_absolute_error: 1.5454 - val_loss: 10.3560 - val_mean_absolute_error: 2.3278\n",
      ".Epoch 179/500\n",
      "323/323 [==============================] - 0s 55us/step - loss: 4.4677 - mean_absolute_error: 1.4999 - val_loss: 10.0797 - val_mean_absolute_error: 2.2617\n",
      ".Epoch 180/500\n",
      "323/323 [==============================] - 0s 51us/step - loss: 4.6554 - mean_absolute_error: 1.4935 - val_loss: 10.7089 - val_mean_absolute_error: 2.3616\n",
      ".Epoch 181/500\n",
      "323/323 [==============================] - 0s 52us/step - loss: 4.7403 - mean_absolute_error: 1.5430 - val_loss: 10.6390 - val_mean_absolute_error: 2.4201\n",
      ".Epoch 182/500\n",
      "323/323 [==============================] - 0s 52us/step - loss: 4.6420 - mean_absolute_error: 1.4965 - val_loss: 11.1959 - val_mean_absolute_error: 2.4905\n",
      ".Epoch 183/500\n",
      "323/323 [==============================] - 0s 52us/step - loss: 4.7335 - mean_absolute_error: 1.5484 - val_loss: 10.3550 - val_mean_absolute_error: 2.3708\n",
      ".Epoch 184/500\n",
      "323/323 [==============================] - 0s 56us/step - loss: 4.4483 - mean_absolute_error: 1.4963 - val_loss: 10.9499 - val_mean_absolute_error: 2.4026\n",
      ".Epoch 185/500\n",
      "323/323 [==============================] - 0s 48us/step - loss: 4.7344 - mean_absolute_error: 1.5282 - val_loss: 12.0041 - val_mean_absolute_error: 2.5919\n",
      ".Epoch 186/500\n",
      "323/323 [==============================] - 0s 48us/step - loss: 4.8109 - mean_absolute_error: 1.5438 - val_loss: 10.2042 - val_mean_absolute_error: 2.3316\n",
      ".Epoch 187/500\n",
      "323/323 [==============================] - 0s 53us/step - loss: 4.4750 - mean_absolute_error: 1.4882 - val_loss: 10.7785 - val_mean_absolute_error: 2.4444\n",
      ".Epoch 188/500\n",
      "323/323 [==============================] - 0s 58us/step - loss: 4.3947 - mean_absolute_error: 1.4388 - val_loss: 10.2548 - val_mean_absolute_error: 2.3953\n",
      ".Epoch 189/500\n",
      "323/323 [==============================] - 0s 64us/step - loss: 4.4632 - mean_absolute_error: 1.5137 - val_loss: 11.8216 - val_mean_absolute_error: 2.5281\n",
      ".Epoch 190/500\n",
      "323/323 [==============================] - 0s 67us/step - loss: 4.6558 - mean_absolute_error: 1.5323 - val_loss: 11.4921 - val_mean_absolute_error: 2.4952\n",
      ".Epoch 191/500\n",
      "323/323 [==============================] - 0s 52us/step - loss: 4.4439 - mean_absolute_error: 1.5123 - val_loss: 11.1006 - val_mean_absolute_error: 2.4920\n",
      ".Epoch 192/500\n",
      "323/323 [==============================] - 0s 54us/step - loss: 4.4920 - mean_absolute_error: 1.4984 - val_loss: 10.0114 - val_mean_absolute_error: 2.2858\n",
      ".Epoch 193/500\n"
     ]
    },
    {
     "name": "stdout",
     "output_type": "stream",
     "text": [
      "323/323 [==============================] - 0s 51us/step - loss: 4.6201 - mean_absolute_error: 1.4964 - val_loss: 12.0090 - val_mean_absolute_error: 2.6573\n",
      ".Epoch 194/500\n",
      "323/323 [==============================] - 0s 55us/step - loss: 4.3739 - mean_absolute_error: 1.4788 - val_loss: 9.9759 - val_mean_absolute_error: 2.3195\n",
      ".Epoch 195/500\n",
      "323/323 [==============================] - 0s 57us/step - loss: 4.4301 - mean_absolute_error: 1.4733 - val_loss: 10.3757 - val_mean_absolute_error: 2.3267\n",
      ".Epoch 196/500\n",
      "323/323 [==============================] - 0s 61us/step - loss: 4.2978 - mean_absolute_error: 1.4820 - val_loss: 10.3446 - val_mean_absolute_error: 2.4190\n",
      ".Epoch 197/500\n",
      "323/323 [==============================] - 0s 58us/step - loss: 4.3554 - mean_absolute_error: 1.4483 - val_loss: 11.1694 - val_mean_absolute_error: 2.5042\n",
      ".Epoch 198/500\n",
      "323/323 [==============================] - 0s 49us/step - loss: 4.4132 - mean_absolute_error: 1.4820 - val_loss: 10.1422 - val_mean_absolute_error: 2.3044\n",
      ".Epoch 199/500\n",
      "323/323 [==============================] - 0s 49us/step - loss: 4.3251 - mean_absolute_error: 1.4631 - val_loss: 10.9314 - val_mean_absolute_error: 2.4497\n",
      ".Epoch 200/500\n",
      "323/323 [==============================] - 0s 64us/step - loss: 4.2406 - mean_absolute_error: 1.4716 - val_loss: 10.3163 - val_mean_absolute_error: 2.3160\n",
      ".Epoch 201/500\n",
      "323/323 [==============================] - 0s 54us/step - loss: 4.2544 - mean_absolute_error: 1.4511 - val_loss: 11.7996 - val_mean_absolute_error: 2.5774\n",
      "\n",
      ".Epoch 202/500\n",
      "323/323 [==============================] - 0s 51us/step - loss: 4.2564 - mean_absolute_error: 1.4573 - val_loss: 10.7005 - val_mean_absolute_error: 2.3874\n",
      ".Epoch 203/500\n",
      "323/323 [==============================] - 0s 58us/step - loss: 4.1868 - mean_absolute_error: 1.4614 - val_loss: 10.1389 - val_mean_absolute_error: 2.2725\n",
      ".Epoch 204/500\n",
      "323/323 [==============================] - 0s 63us/step - loss: 4.2491 - mean_absolute_error: 1.4802 - val_loss: 10.7374 - val_mean_absolute_error: 2.4271\n",
      ".Epoch 205/500\n",
      "323/323 [==============================] - 0s 52us/step - loss: 4.2172 - mean_absolute_error: 1.4631 - val_loss: 9.9778 - val_mean_absolute_error: 2.2765\n",
      ".Epoch 206/500\n",
      "323/323 [==============================] - 0s 51us/step - loss: 4.2030 - mean_absolute_error: 1.4484 - val_loss: 10.4130 - val_mean_absolute_error: 2.3441\n",
      ".Epoch 207/500\n",
      "323/323 [==============================] - 0s 53us/step - loss: 4.2111 - mean_absolute_error: 1.4693 - val_loss: 10.0578 - val_mean_absolute_error: 2.3241\n",
      ".Epoch 208/500\n",
      "323/323 [==============================] - 0s 53us/step - loss: 4.2357 - mean_absolute_error: 1.4573 - val_loss: 10.5758 - val_mean_absolute_error: 2.4029\n",
      ".Epoch 209/500\n",
      "323/323 [==============================] - 0s 53us/step - loss: 4.1226 - mean_absolute_error: 1.4617 - val_loss: 12.1307 - val_mean_absolute_error: 2.6825\n",
      ".Epoch 210/500\n",
      "323/323 [==============================] - 0s 56us/step - loss: 4.2760 - mean_absolute_error: 1.4451 - val_loss: 10.0498 - val_mean_absolute_error: 2.3354\n",
      ".Epoch 211/500\n",
      "323/323 [==============================] - 0s 56us/step - loss: 4.0633 - mean_absolute_error: 1.4405 - val_loss: 10.4998 - val_mean_absolute_error: 2.4301\n",
      ".Epoch 212/500\n",
      "323/323 [==============================] - 0s 51us/step - loss: 4.2035 - mean_absolute_error: 1.4607 - val_loss: 10.5303 - val_mean_absolute_error: 2.4118\n",
      ".Epoch 213/500\n",
      "323/323 [==============================] - 0s 56us/step - loss: 4.1741 - mean_absolute_error: 1.4486 - val_loss: 10.7814 - val_mean_absolute_error: 2.4541\n",
      ".Epoch 214/500\n",
      "323/323 [==============================] - 0s 54us/step - loss: 4.2287 - mean_absolute_error: 1.4384 - val_loss: 10.4326 - val_mean_absolute_error: 2.3717\n",
      ".Epoch 215/500\n",
      "323/323 [==============================] - 0s 55us/step - loss: 3.9950 - mean_absolute_error: 1.4486 - val_loss: 9.9664 - val_mean_absolute_error: 2.3012\n",
      ".Epoch 216/500\n",
      "323/323 [==============================] - 0s 54us/step - loss: 4.0293 - mean_absolute_error: 1.4059 - val_loss: 10.8747 - val_mean_absolute_error: 2.4809\n",
      ".Epoch 217/500\n",
      "323/323 [==============================] - 0s 57us/step - loss: 4.0117 - mean_absolute_error: 1.4250 - val_loss: 11.2240 - val_mean_absolute_error: 2.4725\n",
      ".Epoch 218/500\n",
      "323/323 [==============================] - 0s 54us/step - loss: 4.1865 - mean_absolute_error: 1.4663 - val_loss: 10.1876 - val_mean_absolute_error: 2.3208\n",
      ".Epoch 219/500\n",
      "323/323 [==============================] - 0s 55us/step - loss: 3.9197 - mean_absolute_error: 1.3940 - val_loss: 10.4889 - val_mean_absolute_error: 2.4169\n",
      ".Epoch 220/500\n",
      "323/323 [==============================] - 0s 57us/step - loss: 4.1458 - mean_absolute_error: 1.4178 - val_loss: 10.3018 - val_mean_absolute_error: 2.3574\n",
      ".Epoch 221/500\n",
      "323/323 [==============================] - 0s 54us/step - loss: 4.0358 - mean_absolute_error: 1.4040 - val_loss: 11.2539 - val_mean_absolute_error: 2.5444\n",
      ".Epoch 222/500\n",
      "323/323 [==============================] - 0s 54us/step - loss: 4.1509 - mean_absolute_error: 1.4406 - val_loss: 11.5036 - val_mean_absolute_error: 2.4961\n",
      ".Epoch 223/500\n",
      "323/323 [==============================] - 0s 53us/step - loss: 3.9889 - mean_absolute_error: 1.4136 - val_loss: 12.0508 - val_mean_absolute_error: 2.5618\n",
      ".Epoch 224/500\n",
      "323/323 [==============================] - 0s 54us/step - loss: 4.1710 - mean_absolute_error: 1.4174 - val_loss: 11.2313 - val_mean_absolute_error: 2.5666\n",
      ".Epoch 225/500\n",
      "323/323 [==============================] - 0s 53us/step - loss: 4.0119 - mean_absolute_error: 1.4039 - val_loss: 11.1305 - val_mean_absolute_error: 2.4719\n",
      ".Epoch 226/500\n",
      "323/323 [==============================] - 0s 57us/step - loss: 3.8186 - mean_absolute_error: 1.3669 - val_loss: 10.0522 - val_mean_absolute_error: 2.3434\n",
      ".Epoch 227/500\n",
      "323/323 [==============================] - 0s 54us/step - loss: 3.8775 - mean_absolute_error: 1.3867 - val_loss: 10.2748 - val_mean_absolute_error: 2.3514\n",
      ".Epoch 228/500\n",
      "323/323 [==============================] - 0s 56us/step - loss: 3.8635 - mean_absolute_error: 1.4248 - val_loss: 10.4497 - val_mean_absolute_error: 2.3896\n",
      ".Epoch 229/500\n",
      "323/323 [==============================] - 0s 62us/step - loss: 3.8424 - mean_absolute_error: 1.3863 - val_loss: 10.5612 - val_mean_absolute_error: 2.3944\n",
      ".Epoch 230/500\n",
      "323/323 [==============================] - 0s 54us/step - loss: 3.8886 - mean_absolute_error: 1.3916 - val_loss: 11.0892 - val_mean_absolute_error: 2.4935\n",
      ".Epoch 231/500\n",
      "323/323 [==============================] - 0s 55us/step - loss: 3.9739 - mean_absolute_error: 1.3736 - val_loss: 10.4461 - val_mean_absolute_error: 2.3687\n",
      ".Epoch 232/500\n",
      "323/323 [==============================] - 0s 50us/step - loss: 3.8008 - mean_absolute_error: 1.3550 - val_loss: 10.4281 - val_mean_absolute_error: 2.3826\n",
      ".Epoch 233/500\n",
      "323/323 [==============================] - 0s 51us/step - loss: 3.6954 - mean_absolute_error: 1.3627 - val_loss: 10.8402 - val_mean_absolute_error: 2.4607\n",
      ".Epoch 234/500\n",
      "323/323 [==============================] - 0s 52us/step - loss: 3.7405 - mean_absolute_error: 1.3818 - val_loss: 11.5327 - val_mean_absolute_error: 2.5770\n",
      ".Epoch 235/500\n",
      "323/323 [==============================] - 0s 55us/step - loss: 3.7504 - mean_absolute_error: 1.3831 - val_loss: 10.6146 - val_mean_absolute_error: 2.4000\n",
      ".Epoch 236/500\n",
      "323/323 [==============================] - 0s 63us/step - loss: 3.6159 - mean_absolute_error: 1.3591 - val_loss: 10.6261 - val_mean_absolute_error: 2.4383\n",
      ".Epoch 237/500\n",
      "323/323 [==============================] - 0s 47us/step - loss: 3.9731 - mean_absolute_error: 1.4159 - val_loss: 11.0325 - val_mean_absolute_error: 2.5552\n",
      ".Epoch 238/500\n",
      "323/323 [==============================] - 0s 51us/step - loss: 3.6981 - mean_absolute_error: 1.3656 - val_loss: 12.3004 - val_mean_absolute_error: 2.6593\n",
      ".Epoch 239/500\n",
      "323/323 [==============================] - 0s 52us/step - loss: 3.9846 - mean_absolute_error: 1.4501 - val_loss: 10.4163 - val_mean_absolute_error: 2.3886\n",
      ".Epoch 240/500\n",
      "323/323 [==============================] - 0s 56us/step - loss: 3.8203 - mean_absolute_error: 1.3748 - val_loss: 10.8421 - val_mean_absolute_error: 2.4712\n",
      ".Epoch 241/500\n"
     ]
    },
    {
     "name": "stdout",
     "output_type": "stream",
     "text": [
      "323/323 [==============================] - 0s 50us/step - loss: 3.6999 - mean_absolute_error: 1.3554 - val_loss: 11.0877 - val_mean_absolute_error: 2.4480\n",
      ".Epoch 242/500\n",
      "323/323 [==============================] - 0s 51us/step - loss: 3.6500 - mean_absolute_error: 1.3668 - val_loss: 11.1046 - val_mean_absolute_error: 2.5129\n",
      ".Epoch 243/500\n",
      "323/323 [==============================] - 0s 51us/step - loss: 3.8049 - mean_absolute_error: 1.4071 - val_loss: 10.5283 - val_mean_absolute_error: 2.4397\n",
      ".Epoch 244/500\n",
      "323/323 [==============================] - 0s 53us/step - loss: 3.4380 - mean_absolute_error: 1.3059 - val_loss: 10.8977 - val_mean_absolute_error: 2.4650\n",
      ".Epoch 245/500\n",
      "323/323 [==============================] - 0s 53us/step - loss: 3.7439 - mean_absolute_error: 1.3840 - val_loss: 10.6022 - val_mean_absolute_error: 2.4502\n",
      ".Epoch 246/500\n",
      "323/323 [==============================] - 0s 52us/step - loss: 3.6536 - mean_absolute_error: 1.3418 - val_loss: 11.9368 - val_mean_absolute_error: 2.6266\n",
      ".Epoch 247/500\n",
      "323/323 [==============================] - 0s 54us/step - loss: 3.8531 - mean_absolute_error: 1.3964 - val_loss: 10.2862 - val_mean_absolute_error: 2.3993\n",
      ".Epoch 248/500\n",
      "323/323 [==============================] - 0s 56us/step - loss: 3.5128 - mean_absolute_error: 1.3421 - val_loss: 10.8126 - val_mean_absolute_error: 2.4712\n",
      ".Epoch 249/500\n",
      "323/323 [==============================] - 0s 54us/step - loss: 3.6669 - mean_absolute_error: 1.3691 - val_loss: 9.9134 - val_mean_absolute_error: 2.3540\n",
      ".Epoch 250/500\n",
      "323/323 [==============================] - 0s 55us/step - loss: 3.5960 - mean_absolute_error: 1.3614 - val_loss: 12.4569 - val_mean_absolute_error: 2.6165\n",
      ".Epoch 251/500\n",
      "323/323 [==============================] - 0s 53us/step - loss: 3.8749 - mean_absolute_error: 1.4111 - val_loss: 12.6968 - val_mean_absolute_error: 2.7095\n",
      ".Epoch 252/500\n",
      "323/323 [==============================] - 0s 56us/step - loss: 3.8068 - mean_absolute_error: 1.3910 - val_loss: 10.1472 - val_mean_absolute_error: 2.3490\n",
      ".Epoch 253/500\n",
      "323/323 [==============================] - 0s 53us/step - loss: 3.4106 - mean_absolute_error: 1.3187 - val_loss: 10.4688 - val_mean_absolute_error: 2.4576\n",
      ".Epoch 254/500\n",
      "323/323 [==============================] - 0s 53us/step - loss: 3.5771 - mean_absolute_error: 1.3606 - val_loss: 10.6628 - val_mean_absolute_error: 2.4544\n",
      ".Epoch 255/500\n",
      "323/323 [==============================] - 0s 69us/step - loss: 3.7028 - mean_absolute_error: 1.3493 - val_loss: 10.5806 - val_mean_absolute_error: 2.4540\n",
      ".Epoch 256/500\n",
      "323/323 [==============================] - 0s 55us/step - loss: 3.4208 - mean_absolute_error: 1.3282 - val_loss: 11.1223 - val_mean_absolute_error: 2.5235\n",
      ".Epoch 257/500\n",
      "323/323 [==============================] - 0s 52us/step - loss: 3.5765 - mean_absolute_error: 1.3846 - val_loss: 11.5533 - val_mean_absolute_error: 2.5699\n",
      ".Epoch 258/500\n",
      "323/323 [==============================] - 0s 55us/step - loss: 3.6727 - mean_absolute_error: 1.3753 - val_loss: 10.4688 - val_mean_absolute_error: 2.4052\n",
      ".Epoch 259/500\n",
      "323/323 [==============================] - 0s 57us/step - loss: 3.4453 - mean_absolute_error: 1.3190 - val_loss: 10.6177 - val_mean_absolute_error: 2.3899\n",
      ".Epoch 260/500\n",
      "323/323 [==============================] - 0s 59us/step - loss: 3.5574 - mean_absolute_error: 1.3462 - val_loss: 10.8138 - val_mean_absolute_error: 2.4375\n",
      ".Epoch 261/500\n",
      "323/323 [==============================] - 0s 57us/step - loss: 3.4874 - mean_absolute_error: 1.2899 - val_loss: 10.3425 - val_mean_absolute_error: 2.4245\n",
      ".Epoch 262/500\n",
      "323/323 [==============================] - 0s 53us/step - loss: 3.4975 - mean_absolute_error: 1.3216 - val_loss: 10.5631 - val_mean_absolute_error: 2.4349\n",
      ".Epoch 263/500\n",
      "323/323 [==============================] - 0s 57us/step - loss: 3.5789 - mean_absolute_error: 1.3589 - val_loss: 11.5304 - val_mean_absolute_error: 2.5478\n",
      ".Epoch 264/500\n",
      "323/323 [==============================] - 0s 55us/step - loss: 3.5994 - mean_absolute_error: 1.3434 - val_loss: 10.0862 - val_mean_absolute_error: 2.3413\n",
      ".Epoch 265/500\n",
      "323/323 [==============================] - 0s 57us/step - loss: 3.3768 - mean_absolute_error: 1.2996 - val_loss: 9.9320 - val_mean_absolute_error: 2.3086\n",
      ".Epoch 266/500\n",
      "323/323 [==============================] - 0s 55us/step - loss: 3.2922 - mean_absolute_error: 1.2805 - val_loss: 10.1509 - val_mean_absolute_error: 2.3550\n",
      ".Epoch 267/500\n",
      "323/323 [==============================] - 0s 58us/step - loss: 3.5147 - mean_absolute_error: 1.3427 - val_loss: 10.2437 - val_mean_absolute_error: 2.4418\n",
      ".Epoch 268/500\n",
      "323/323 [==============================] - 0s 55us/step - loss: 3.4408 - mean_absolute_error: 1.3214 - val_loss: 10.6911 - val_mean_absolute_error: 2.4576\n",
      ".Epoch 269/500\n",
      "323/323 [==============================] - 0s 58us/step - loss: 3.2999 - mean_absolute_error: 1.3052 - val_loss: 10.7886 - val_mean_absolute_error: 2.4490\n",
      ".Epoch 270/500\n",
      "323/323 [==============================] - 0s 57us/step - loss: 3.3353 - mean_absolute_error: 1.3144 - val_loss: 10.7751 - val_mean_absolute_error: 2.4345\n",
      ".Epoch 271/500\n",
      "323/323 [==============================] - 0s 60us/step - loss: 3.4759 - mean_absolute_error: 1.3136 - val_loss: 12.6615 - val_mean_absolute_error: 2.6490\n",
      ".Epoch 272/500\n",
      "323/323 [==============================] - 0s 58us/step - loss: 3.4336 - mean_absolute_error: 1.3249 - val_loss: 11.1085 - val_mean_absolute_error: 2.4999\n",
      ".Epoch 273/500\n",
      "323/323 [==============================] - 0s 54us/step - loss: 3.3448 - mean_absolute_error: 1.3111 - val_loss: 10.9532 - val_mean_absolute_error: 2.4509\n",
      ".Epoch 274/500\n",
      "323/323 [==============================] - 0s 55us/step - loss: 3.2480 - mean_absolute_error: 1.2866 - val_loss: 12.2391 - val_mean_absolute_error: 2.5913\n",
      ".Epoch 275/500\n",
      "323/323 [==============================] - 0s 54us/step - loss: 3.5239 - mean_absolute_error: 1.3320 - val_loss: 11.7374 - val_mean_absolute_error: 2.5816\n",
      ".Epoch 276/500\n",
      "323/323 [==============================] - 0s 55us/step - loss: 3.3450 - mean_absolute_error: 1.3069 - val_loss: 10.1554 - val_mean_absolute_error: 2.3389\n",
      ".Epoch 277/500\n",
      "323/323 [==============================] - 0s 56us/step - loss: 3.2709 - mean_absolute_error: 1.2835 - val_loss: 10.4858 - val_mean_absolute_error: 2.4230\n",
      ".Epoch 278/500\n",
      "323/323 [==============================] - 0s 56us/step - loss: 3.3263 - mean_absolute_error: 1.3080 - val_loss: 11.9230 - val_mean_absolute_error: 2.5911\n",
      ".Epoch 279/500\n",
      "323/323 [==============================] - 0s 53us/step - loss: 3.3301 - mean_absolute_error: 1.3131 - val_loss: 12.7048 - val_mean_absolute_error: 2.7010\n",
      ".Epoch 280/500\n",
      "323/323 [==============================] - 0s 52us/step - loss: 3.3363 - mean_absolute_error: 1.2955 - val_loss: 10.5462 - val_mean_absolute_error: 2.4092\n",
      ".Epoch 281/500\n",
      "323/323 [==============================] - 0s 53us/step - loss: 3.2602 - mean_absolute_error: 1.2848 - val_loss: 10.1382 - val_mean_absolute_error: 2.3342\n",
      ".Epoch 282/500\n",
      "323/323 [==============================] - 0s 48us/step - loss: 3.0457 - mean_absolute_error: 1.2297 - val_loss: 10.3099 - val_mean_absolute_error: 2.3568\n",
      ".Epoch 283/500\n",
      "323/323 [==============================] - 0s 50us/step - loss: 3.0573 - mean_absolute_error: 1.2347 - val_loss: 11.4392 - val_mean_absolute_error: 2.5352\n",
      ".Epoch 284/500\n",
      "323/323 [==============================] - 0s 56us/step - loss: 3.4270 - mean_absolute_error: 1.3148 - val_loss: 11.1362 - val_mean_absolute_error: 2.4905\n",
      ".Epoch 285/500\n",
      "323/323 [==============================] - 0s 53us/step - loss: 3.1433 - mean_absolute_error: 1.2597 - val_loss: 11.0327 - val_mean_absolute_error: 2.4541\n",
      ".Epoch 286/500\n",
      "323/323 [==============================] - 0s 57us/step - loss: 3.2010 - mean_absolute_error: 1.2625 - val_loss: 10.6164 - val_mean_absolute_error: 2.4271\n",
      ".Epoch 287/500\n",
      "323/323 [==============================] - 0s 54us/step - loss: 3.0489 - mean_absolute_error: 1.2470 - val_loss: 11.0632 - val_mean_absolute_error: 2.4628\n",
      ".Epoch 288/500\n",
      "323/323 [==============================] - 0s 53us/step - loss: 3.1966 - mean_absolute_error: 1.2873 - val_loss: 10.3551 - val_mean_absolute_error: 2.4078\n",
      ".Epoch 289/500\n"
     ]
    },
    {
     "name": "stdout",
     "output_type": "stream",
     "text": [
      "323/323 [==============================] - 0s 56us/step - loss: 3.0975 - mean_absolute_error: 1.2547 - val_loss: 12.4341 - val_mean_absolute_error: 2.7068\n",
      ".Epoch 290/500\n",
      "323/323 [==============================] - 0s 57us/step - loss: 3.3588 - mean_absolute_error: 1.3285 - val_loss: 11.0624 - val_mean_absolute_error: 2.5003\n",
      ".Epoch 291/500\n",
      "323/323 [==============================] - 0s 53us/step - loss: 3.1228 - mean_absolute_error: 1.2701 - val_loss: 10.4907 - val_mean_absolute_error: 2.4246\n",
      ".Epoch 292/500\n",
      "323/323 [==============================] - 0s 55us/step - loss: 3.1405 - mean_absolute_error: 1.2639 - val_loss: 12.3967 - val_mean_absolute_error: 2.6200\n",
      ".Epoch 293/500\n",
      "323/323 [==============================] - 0s 52us/step - loss: 3.2441 - mean_absolute_error: 1.2886 - val_loss: 10.2623 - val_mean_absolute_error: 2.4128\n",
      ".Epoch 294/500\n",
      "323/323 [==============================] - 0s 52us/step - loss: 3.1502 - mean_absolute_error: 1.2643 - val_loss: 10.7864 - val_mean_absolute_error: 2.4401\n",
      ".Epoch 295/500\n",
      "323/323 [==============================] - 0s 53us/step - loss: 3.0765 - mean_absolute_error: 1.2548 - val_loss: 10.6444 - val_mean_absolute_error: 2.4269\n",
      ".Epoch 296/500\n",
      "323/323 [==============================] - 0s 56us/step - loss: 3.0180 - mean_absolute_error: 1.2244 - val_loss: 10.3669 - val_mean_absolute_error: 2.3749\n",
      ".Epoch 297/500\n",
      "323/323 [==============================] - 0s 53us/step - loss: 3.0152 - mean_absolute_error: 1.2580 - val_loss: 10.1544 - val_mean_absolute_error: 2.3238\n",
      ".Epoch 298/500\n",
      "323/323 [==============================] - 0s 52us/step - loss: 3.1329 - mean_absolute_error: 1.3002 - val_loss: 10.2982 - val_mean_absolute_error: 2.3498\n",
      ".Epoch 299/500\n",
      "323/323 [==============================] - 0s 55us/step - loss: 3.0046 - mean_absolute_error: 1.2367 - val_loss: 10.3634 - val_mean_absolute_error: 2.3673\n",
      ".Epoch 300/500\n",
      "323/323 [==============================] - 0s 54us/step - loss: 3.0265 - mean_absolute_error: 1.2709 - val_loss: 10.4257 - val_mean_absolute_error: 2.3811\n",
      ".Epoch 301/500\n",
      "323/323 [==============================] - 0s 52us/step - loss: 2.8299 - mean_absolute_error: 1.1973 - val_loss: 12.0708 - val_mean_absolute_error: 2.5827\n",
      "\n",
      ".Epoch 302/500\n",
      "323/323 [==============================] - 0s 54us/step - loss: 2.9767 - mean_absolute_error: 1.2527 - val_loss: 10.2149 - val_mean_absolute_error: 2.3396\n",
      ".Epoch 303/500\n",
      "323/323 [==============================] - 0s 52us/step - loss: 2.8860 - mean_absolute_error: 1.2466 - val_loss: 10.3882 - val_mean_absolute_error: 2.3741\n",
      ".Epoch 304/500\n",
      "323/323 [==============================] - 0s 56us/step - loss: 2.9659 - mean_absolute_error: 1.2502 - val_loss: 10.7976 - val_mean_absolute_error: 2.4533\n",
      ".Epoch 305/500\n",
      "323/323 [==============================] - 0s 54us/step - loss: 3.0095 - mean_absolute_error: 1.2533 - val_loss: 10.5679 - val_mean_absolute_error: 2.4392\n",
      ".Epoch 306/500\n",
      "323/323 [==============================] - 0s 56us/step - loss: 2.9463 - mean_absolute_error: 1.2332 - val_loss: 10.5044 - val_mean_absolute_error: 2.4110\n",
      ".Epoch 307/500\n",
      "323/323 [==============================] - 0s 62us/step - loss: 2.8622 - mean_absolute_error: 1.2224 - val_loss: 10.0084 - val_mean_absolute_error: 2.3317\n",
      ".Epoch 308/500\n",
      "323/323 [==============================] - 0s 55us/step - loss: 2.9479 - mean_absolute_error: 1.2083 - val_loss: 10.7775 - val_mean_absolute_error: 2.4708\n",
      ".Epoch 309/500\n",
      "323/323 [==============================] - 0s 63us/step - loss: 2.9649 - mean_absolute_error: 1.2532 - val_loss: 10.5582 - val_mean_absolute_error: 2.4568\n",
      ".Epoch 310/500\n",
      "323/323 [==============================] - 0s 55us/step - loss: 2.9974 - mean_absolute_error: 1.2484 - val_loss: 10.1228 - val_mean_absolute_error: 2.3832\n",
      ".Epoch 311/500\n",
      "323/323 [==============================] - 0s 58us/step - loss: 2.9827 - mean_absolute_error: 1.2451 - val_loss: 10.2392 - val_mean_absolute_error: 2.3164\n",
      ".Epoch 312/500\n",
      "323/323 [==============================] - 0s 58us/step - loss: 2.9712 - mean_absolute_error: 1.1989 - val_loss: 11.7600 - val_mean_absolute_error: 2.5772\n",
      ".Epoch 313/500\n",
      "323/323 [==============================] - 0s 56us/step - loss: 3.0829 - mean_absolute_error: 1.2532 - val_loss: 10.1617 - val_mean_absolute_error: 2.3401\n",
      ".Epoch 314/500\n",
      "323/323 [==============================] - 0s 55us/step - loss: 2.7743 - mean_absolute_error: 1.2084 - val_loss: 10.3378 - val_mean_absolute_error: 2.3887\n",
      ".Epoch 315/500\n",
      "323/323 [==============================] - 0s 54us/step - loss: 2.8227 - mean_absolute_error: 1.2036 - val_loss: 9.9625 - val_mean_absolute_error: 2.3147\n",
      ".Epoch 316/500\n",
      "323/323 [==============================] - 0s 54us/step - loss: 2.7615 - mean_absolute_error: 1.2102 - val_loss: 10.3301 - val_mean_absolute_error: 2.3707\n",
      ".Epoch 317/500\n",
      "323/323 [==============================] - 0s 59us/step - loss: 2.7823 - mean_absolute_error: 1.2066 - val_loss: 12.3231 - val_mean_absolute_error: 2.6129\n",
      ".Epoch 318/500\n",
      "323/323 [==============================] - 0s 55us/step - loss: 2.9242 - mean_absolute_error: 1.2109 - val_loss: 10.5345 - val_mean_absolute_error: 2.3891\n",
      ".Epoch 319/500\n",
      "323/323 [==============================] - 0s 52us/step - loss: 2.9180 - mean_absolute_error: 1.2348 - val_loss: 10.0969 - val_mean_absolute_error: 2.3477\n",
      ".Epoch 320/500\n",
      "323/323 [==============================] - 0s 52us/step - loss: 2.8396 - mean_absolute_error: 1.2060 - val_loss: 10.4936 - val_mean_absolute_error: 2.3755\n",
      ".Epoch 321/500\n",
      "323/323 [==============================] - 0s 55us/step - loss: 2.8233 - mean_absolute_error: 1.1975 - val_loss: 10.1004 - val_mean_absolute_error: 2.3249\n",
      ".Epoch 322/500\n",
      "323/323 [==============================] - 0s 60us/step - loss: 2.8369 - mean_absolute_error: 1.2150 - val_loss: 11.7871 - val_mean_absolute_error: 2.5819\n",
      ".Epoch 323/500\n",
      "323/323 [==============================] - 0s 57us/step - loss: 2.8734 - mean_absolute_error: 1.2214 - val_loss: 10.8569 - val_mean_absolute_error: 2.4679\n",
      ".Epoch 324/500\n",
      "323/323 [==============================] - 0s 54us/step - loss: 2.7633 - mean_absolute_error: 1.1815 - val_loss: 10.9918 - val_mean_absolute_error: 2.4633\n",
      ".Epoch 325/500\n",
      "323/323 [==============================] - 0s 55us/step - loss: 2.6772 - mean_absolute_error: 1.1892 - val_loss: 10.6713 - val_mean_absolute_error: 2.4607\n",
      ".Epoch 326/500\n",
      "323/323 [==============================] - 0s 52us/step - loss: 2.8343 - mean_absolute_error: 1.2028 - val_loss: 10.8057 - val_mean_absolute_error: 2.4330\n",
      ".Epoch 327/500\n",
      "323/323 [==============================] - 0s 55us/step - loss: 2.7426 - mean_absolute_error: 1.2091 - val_loss: 11.2641 - val_mean_absolute_error: 2.5144\n",
      ".Epoch 328/500\n",
      "323/323 [==============================] - 0s 54us/step - loss: 2.7031 - mean_absolute_error: 1.2019 - val_loss: 10.2046 - val_mean_absolute_error: 2.3764\n",
      ".Epoch 329/500\n",
      "323/323 [==============================] - 0s 52us/step - loss: 2.7474 - mean_absolute_error: 1.2113 - val_loss: 10.6684 - val_mean_absolute_error: 2.3972\n",
      ".Epoch 330/500\n",
      "323/323 [==============================] - 0s 53us/step - loss: 2.7211 - mean_absolute_error: 1.2066 - val_loss: 10.2077 - val_mean_absolute_error: 2.3334\n",
      ".Epoch 331/500\n",
      "323/323 [==============================] - 0s 54us/step - loss: 2.7724 - mean_absolute_error: 1.1876 - val_loss: 11.0185 - val_mean_absolute_error: 2.4455\n",
      ".Epoch 332/500\n",
      "323/323 [==============================] - 0s 51us/step - loss: 2.8951 - mean_absolute_error: 1.1968 - val_loss: 10.8618 - val_mean_absolute_error: 2.4515\n",
      ".Epoch 333/500\n",
      "323/323 [==============================] - 0s 71us/step - loss: 2.7584 - mean_absolute_error: 1.1926 - val_loss: 10.9101 - val_mean_absolute_error: 2.4375\n",
      ".Epoch 334/500\n",
      "323/323 [==============================] - 0s 54us/step - loss: 2.5835 - mean_absolute_error: 1.1473 - val_loss: 10.6892 - val_mean_absolute_error: 2.4388\n",
      ".Epoch 335/500\n",
      "323/323 [==============================] - 0s 54us/step - loss: 2.6324 - mean_absolute_error: 1.1729 - val_loss: 10.3319 - val_mean_absolute_error: 2.4240\n",
      ".Epoch 336/500\n",
      "323/323 [==============================] - 0s 58us/step - loss: 2.8011 - mean_absolute_error: 1.1723 - val_loss: 11.1896 - val_mean_absolute_error: 2.5131\n",
      ".Epoch 337/500\n"
     ]
    },
    {
     "name": "stdout",
     "output_type": "stream",
     "text": [
      "323/323 [==============================] - 0s 53us/step - loss: 2.6424 - mean_absolute_error: 1.1651 - val_loss: 10.3558 - val_mean_absolute_error: 2.3809\n",
      ".Epoch 338/500\n",
      "323/323 [==============================] - 0s 53us/step - loss: 2.7746 - mean_absolute_error: 1.2042 - val_loss: 10.2488 - val_mean_absolute_error: 2.3522\n",
      ".Epoch 339/500\n",
      "323/323 [==============================] - 0s 52us/step - loss: 2.4995 - mean_absolute_error: 1.1530 - val_loss: 10.0636 - val_mean_absolute_error: 2.3738\n",
      ".Epoch 340/500\n",
      "323/323 [==============================] - 0s 54us/step - loss: 2.7372 - mean_absolute_error: 1.1992 - val_loss: 10.0344 - val_mean_absolute_error: 2.3460\n",
      ".Epoch 341/500\n",
      "323/323 [==============================] - 0s 52us/step - loss: 2.4944 - mean_absolute_error: 1.1628 - val_loss: 10.9135 - val_mean_absolute_error: 2.4659\n",
      ".Epoch 342/500\n",
      "323/323 [==============================] - 0s 53us/step - loss: 2.7268 - mean_absolute_error: 1.1808 - val_loss: 10.4291 - val_mean_absolute_error: 2.3702\n",
      ".Epoch 343/500\n",
      "323/323 [==============================] - 0s 68us/step - loss: 2.5264 - mean_absolute_error: 1.1663 - val_loss: 11.1023 - val_mean_absolute_error: 2.4690\n",
      ".Epoch 344/500\n",
      "323/323 [==============================] - 0s 62us/step - loss: 2.5265 - mean_absolute_error: 1.1259 - val_loss: 11.1380 - val_mean_absolute_error: 2.4992\n",
      ".Epoch 345/500\n",
      "323/323 [==============================] - 0s 68us/step - loss: 2.5028 - mean_absolute_error: 1.1333 - val_loss: 10.3492 - val_mean_absolute_error: 2.3522\n",
      ".Epoch 346/500\n",
      "323/323 [==============================] - 0s 65us/step - loss: 2.5983 - mean_absolute_error: 1.1782 - val_loss: 10.0205 - val_mean_absolute_error: 2.3521\n",
      ".Epoch 347/500\n",
      "323/323 [==============================] - 0s 58us/step - loss: 2.6254 - mean_absolute_error: 1.1659 - val_loss: 9.9111 - val_mean_absolute_error: 2.2736\n",
      ".Epoch 348/500\n",
      "323/323 [==============================] - 0s 59us/step - loss: 2.5187 - mean_absolute_error: 1.1529 - val_loss: 11.0218 - val_mean_absolute_error: 2.4574\n",
      ".Epoch 349/500\n",
      "323/323 [==============================] - 0s 69us/step - loss: 2.4908 - mean_absolute_error: 1.1247 - val_loss: 10.1269 - val_mean_absolute_error: 2.3254\n",
      ".Epoch 350/500\n",
      "323/323 [==============================] - 0s 68us/step - loss: 2.5931 - mean_absolute_error: 1.1647 - val_loss: 14.0156 - val_mean_absolute_error: 2.8763\n",
      ".Epoch 351/500\n",
      "323/323 [==============================] - 0s 61us/step - loss: 2.7599 - mean_absolute_error: 1.2259 - val_loss: 10.3094 - val_mean_absolute_error: 2.3492\n",
      ".Epoch 352/500\n",
      "323/323 [==============================] - 0s 57us/step - loss: 2.4519 - mean_absolute_error: 1.1315 - val_loss: 10.6435 - val_mean_absolute_error: 2.3952\n",
      ".Epoch 353/500\n",
      "323/323 [==============================] - 0s 68us/step - loss: 2.5849 - mean_absolute_error: 1.1792 - val_loss: 10.0732 - val_mean_absolute_error: 2.3484\n",
      ".Epoch 354/500\n",
      "323/323 [==============================] - 0s 66us/step - loss: 2.5177 - mean_absolute_error: 1.1241 - val_loss: 10.1506 - val_mean_absolute_error: 2.3396\n",
      ".Epoch 355/500\n",
      "323/323 [==============================] - 0s 60us/step - loss: 2.4433 - mean_absolute_error: 1.1173 - val_loss: 10.7859 - val_mean_absolute_error: 2.4554\n",
      ".Epoch 356/500\n",
      "323/323 [==============================] - 0s 60us/step - loss: 2.4241 - mean_absolute_error: 1.1239 - val_loss: 11.0315 - val_mean_absolute_error: 2.4800\n",
      ".Epoch 357/500\n",
      "323/323 [==============================] - 0s 65us/step - loss: 2.5155 - mean_absolute_error: 1.1461 - val_loss: 11.6260 - val_mean_absolute_error: 2.5694\n",
      ".Epoch 358/500\n",
      "323/323 [==============================] - 0s 62us/step - loss: 2.7746 - mean_absolute_error: 1.1988 - val_loss: 10.2051 - val_mean_absolute_error: 2.3374\n",
      ".Epoch 359/500\n",
      "323/323 [==============================] - 0s 53us/step - loss: 2.3489 - mean_absolute_error: 1.0875 - val_loss: 10.9342 - val_mean_absolute_error: 2.4367\n",
      ".Epoch 360/500\n",
      "323/323 [==============================] - 0s 53us/step - loss: 2.3383 - mean_absolute_error: 1.1234 - val_loss: 12.3509 - val_mean_absolute_error: 2.6226\n",
      ".Epoch 361/500\n",
      "323/323 [==============================] - 0s 67us/step - loss: 2.5162 - mean_absolute_error: 1.1573 - val_loss: 11.3384 - val_mean_absolute_error: 2.5257\n",
      ".Epoch 362/500\n",
      "323/323 [==============================] - 0s 54us/step - loss: 2.4444 - mean_absolute_error: 1.1318 - val_loss: 10.2924 - val_mean_absolute_error: 2.4176\n",
      ".Epoch 363/500\n",
      "323/323 [==============================] - 0s 51us/step - loss: 2.3586 - mean_absolute_error: 1.1228 - val_loss: 12.4037 - val_mean_absolute_error: 2.6462\n",
      ".Epoch 364/500\n",
      "323/323 [==============================] - 0s 58us/step - loss: 2.5547 - mean_absolute_error: 1.1835 - val_loss: 10.6840 - val_mean_absolute_error: 2.4152\n",
      ".Epoch 365/500\n",
      "323/323 [==============================] - 0s 55us/step - loss: 2.3305 - mean_absolute_error: 1.0947 - val_loss: 10.1733 - val_mean_absolute_error: 2.3310\n",
      ".Epoch 366/500\n",
      "323/323 [==============================] - 0s 56us/step - loss: 2.3559 - mean_absolute_error: 1.1315 - val_loss: 11.1010 - val_mean_absolute_error: 2.5067\n",
      ".Epoch 367/500\n",
      "323/323 [==============================] - 0s 58us/step - loss: 2.5804 - mean_absolute_error: 1.1562 - val_loss: 11.5548 - val_mean_absolute_error: 2.5291\n",
      ".Epoch 368/500\n",
      "323/323 [==============================] - 0s 62us/step - loss: 2.5525 - mean_absolute_error: 1.1601 - val_loss: 10.9622 - val_mean_absolute_error: 2.4832\n",
      ".Epoch 369/500\n",
      "323/323 [==============================] - 0s 61us/step - loss: 2.4318 - mean_absolute_error: 1.1318 - val_loss: 10.1284 - val_mean_absolute_error: 2.3791\n",
      ".Epoch 370/500\n",
      "323/323 [==============================] - 0s 65us/step - loss: 2.3007 - mean_absolute_error: 1.0940 - val_loss: 11.2161 - val_mean_absolute_error: 2.5232\n",
      ".Epoch 371/500\n",
      "323/323 [==============================] - 0s 66us/step - loss: 2.3841 - mean_absolute_error: 1.1274 - val_loss: 11.0909 - val_mean_absolute_error: 2.4806\n",
      ".Epoch 372/500\n",
      "323/323 [==============================] - 0s 64us/step - loss: 2.4839 - mean_absolute_error: 1.1483 - val_loss: 11.1707 - val_mean_absolute_error: 2.4760\n",
      ".Epoch 373/500\n",
      "323/323 [==============================] - 0s 74us/step - loss: 2.2985 - mean_absolute_error: 1.0823 - val_loss: 11.5434 - val_mean_absolute_error: 2.5128\n",
      ".Epoch 374/500\n",
      "323/323 [==============================] - 0s 64us/step - loss: 2.3251 - mean_absolute_error: 1.1124 - val_loss: 10.8141 - val_mean_absolute_error: 2.4143\n",
      ".Epoch 375/500\n",
      "323/323 [==============================] - 0s 63us/step - loss: 2.4962 - mean_absolute_error: 1.1634 - val_loss: 10.3738 - val_mean_absolute_error: 2.3926\n",
      ".Epoch 376/500\n",
      "323/323 [==============================] - 0s 61us/step - loss: 2.2960 - mean_absolute_error: 1.0995 - val_loss: 11.4559 - val_mean_absolute_error: 2.5424\n",
      ".Epoch 377/500\n",
      "323/323 [==============================] - 0s 60us/step - loss: 2.3353 - mean_absolute_error: 1.1003 - val_loss: 10.3235 - val_mean_absolute_error: 2.3874\n",
      ".Epoch 378/500\n",
      "323/323 [==============================] - 0s 60us/step - loss: 2.3832 - mean_absolute_error: 1.1327 - val_loss: 10.0178 - val_mean_absolute_error: 2.3276\n",
      ".Epoch 379/500\n",
      "323/323 [==============================] - 0s 62us/step - loss: 2.4885 - mean_absolute_error: 1.1500 - val_loss: 10.4190 - val_mean_absolute_error: 2.4553\n",
      ".Epoch 380/500\n",
      "323/323 [==============================] - 0s 48us/step - loss: 2.4017 - mean_absolute_error: 1.1155 - val_loss: 11.2474 - val_mean_absolute_error: 2.4864\n",
      ".Epoch 381/500\n",
      "323/323 [==============================] - 0s 55us/step - loss: 2.4540 - mean_absolute_error: 1.1167 - val_loss: 10.0436 - val_mean_absolute_error: 2.3682\n",
      ".Epoch 382/500\n",
      "323/323 [==============================] - 0s 52us/step - loss: 2.1928 - mean_absolute_error: 1.0854 - val_loss: 10.1059 - val_mean_absolute_error: 2.3585\n",
      ".Epoch 383/500\n",
      "323/323 [==============================] - 0s 55us/step - loss: 2.2504 - mean_absolute_error: 1.1046 - val_loss: 10.9151 - val_mean_absolute_error: 2.4337\n",
      ".Epoch 384/500\n",
      "323/323 [==============================] - 0s 62us/step - loss: 2.3420 - mean_absolute_error: 1.1002 - val_loss: 11.0343 - val_mean_absolute_error: 2.5366\n",
      ".Epoch 385/500\n"
     ]
    },
    {
     "name": "stdout",
     "output_type": "stream",
     "text": [
      "323/323 [==============================] - 0s 60us/step - loss: 2.3794 - mean_absolute_error: 1.1327 - val_loss: 10.4256 - val_mean_absolute_error: 2.4242\n",
      ".Epoch 386/500\n",
      "323/323 [==============================] - 0s 64us/step - loss: 2.1344 - mean_absolute_error: 1.0708 - val_loss: 10.5915 - val_mean_absolute_error: 2.4666\n",
      ".Epoch 387/500\n",
      "323/323 [==============================] - 0s 63us/step - loss: 2.2395 - mean_absolute_error: 1.0887 - val_loss: 10.1749 - val_mean_absolute_error: 2.3422\n",
      ".Epoch 388/500\n",
      "323/323 [==============================] - 0s 69us/step - loss: 2.1093 - mean_absolute_error: 1.0555 - val_loss: 11.6904 - val_mean_absolute_error: 2.5784\n",
      ".Epoch 389/500\n",
      "323/323 [==============================] - 0s 63us/step - loss: 2.1644 - mean_absolute_error: 1.0754 - val_loss: 10.7412 - val_mean_absolute_error: 2.4161\n",
      ".Epoch 390/500\n",
      "323/323 [==============================] - 0s 60us/step - loss: 2.2715 - mean_absolute_error: 1.1003 - val_loss: 10.5165 - val_mean_absolute_error: 2.4099\n",
      ".Epoch 391/500\n",
      "323/323 [==============================] - 0s 62us/step - loss: 2.2489 - mean_absolute_error: 1.0865 - val_loss: 10.4743 - val_mean_absolute_error: 2.4473\n",
      ".Epoch 392/500\n",
      "323/323 [==============================] - 0s 66us/step - loss: 2.1237 - mean_absolute_error: 1.0352 - val_loss: 10.8644 - val_mean_absolute_error: 2.5081\n",
      ".Epoch 393/500\n",
      "323/323 [==============================] - 0s 60us/step - loss: 2.5353 - mean_absolute_error: 1.1500 - val_loss: 12.1690 - val_mean_absolute_error: 2.6205\n",
      ".Epoch 394/500\n",
      "323/323 [==============================] - 0s 61us/step - loss: 2.3803 - mean_absolute_error: 1.1079 - val_loss: 10.2917 - val_mean_absolute_error: 2.3835\n",
      ".Epoch 395/500\n",
      "323/323 [==============================] - 0s 57us/step - loss: 2.0163 - mean_absolute_error: 1.0236 - val_loss: 10.0005 - val_mean_absolute_error: 2.3444\n",
      ".Epoch 396/500\n",
      "323/323 [==============================] - 0s 58us/step - loss: 2.0790 - mean_absolute_error: 1.0492 - val_loss: 9.8273 - val_mean_absolute_error: 2.3449\n",
      ".Epoch 397/500\n",
      "323/323 [==============================] - 0s 54us/step - loss: 2.1138 - mean_absolute_error: 1.0866 - val_loss: 10.0949 - val_mean_absolute_error: 2.3548\n",
      ".Epoch 398/500\n",
      "323/323 [==============================] - 0s 51us/step - loss: 1.9955 - mean_absolute_error: 1.0216 - val_loss: 10.6370 - val_mean_absolute_error: 2.4303\n",
      ".Epoch 399/500\n",
      "323/323 [==============================] - 0s 60us/step - loss: 2.1728 - mean_absolute_error: 1.0684 - val_loss: 10.1828 - val_mean_absolute_error: 2.3806\n",
      ".Epoch 400/500\n",
      "323/323 [==============================] - 0s 59us/step - loss: 2.1901 - mean_absolute_error: 1.0796 - val_loss: 9.9300 - val_mean_absolute_error: 2.3344\n",
      ".Epoch 401/500\n",
      "323/323 [==============================] - 0s 55us/step - loss: 1.9612 - mean_absolute_error: 1.0213 - val_loss: 10.5864 - val_mean_absolute_error: 2.4157\n",
      "\n",
      ".Epoch 402/500\n",
      "323/323 [==============================] - 0s 53us/step - loss: 2.2241 - mean_absolute_error: 1.0944 - val_loss: 11.9846 - val_mean_absolute_error: 2.5627\n",
      ".Epoch 403/500\n",
      "323/323 [==============================] - 0s 54us/step - loss: 2.3365 - mean_absolute_error: 1.0599 - val_loss: 10.8105 - val_mean_absolute_error: 2.5227\n",
      ".Epoch 404/500\n",
      "323/323 [==============================] - 0s 68us/step - loss: 2.2785 - mean_absolute_error: 1.0902 - val_loss: 10.6422 - val_mean_absolute_error: 2.4605\n",
      ".Epoch 405/500\n",
      "323/323 [==============================] - 0s 64us/step - loss: 2.0205 - mean_absolute_error: 1.0313 - val_loss: 10.3930 - val_mean_absolute_error: 2.3880\n",
      ".Epoch 406/500\n",
      "323/323 [==============================] - 0s 65us/step - loss: 2.1497 - mean_absolute_error: 1.0817 - val_loss: 11.1185 - val_mean_absolute_error: 2.4916\n",
      ".Epoch 407/500\n",
      "323/323 [==============================] - 0s 57us/step - loss: 2.0999 - mean_absolute_error: 1.0568 - val_loss: 11.2965 - val_mean_absolute_error: 2.4712\n",
      ".Epoch 408/500\n",
      "323/323 [==============================] - 0s 63us/step - loss: 2.2226 - mean_absolute_error: 1.0726 - val_loss: 10.4220 - val_mean_absolute_error: 2.4675\n",
      ".Epoch 409/500\n",
      "323/323 [==============================] - 0s 59us/step - loss: 1.9905 - mean_absolute_error: 1.0338 - val_loss: 11.0993 - val_mean_absolute_error: 2.4919\n",
      ".Epoch 410/500\n",
      "323/323 [==============================] - 0s 60us/step - loss: 2.0932 - mean_absolute_error: 1.0744 - val_loss: 10.9255 - val_mean_absolute_error: 2.4803\n",
      ".Epoch 411/500\n",
      "323/323 [==============================] - 0s 84us/step - loss: 1.9666 - mean_absolute_error: 1.0244 - val_loss: 10.6852 - val_mean_absolute_error: 2.4411\n",
      ".Epoch 412/500\n",
      "323/323 [==============================] - 0s 62us/step - loss: 2.0826 - mean_absolute_error: 1.0419 - val_loss: 10.6653 - val_mean_absolute_error: 2.4421\n",
      ".Epoch 413/500\n",
      "323/323 [==============================] - 0s 62us/step - loss: 2.1026 - mean_absolute_error: 1.0649 - val_loss: 10.9221 - val_mean_absolute_error: 2.4755\n",
      ".Epoch 414/500\n",
      "323/323 [==============================] - 0s 72us/step - loss: 1.9698 - mean_absolute_error: 1.0309 - val_loss: 13.2690 - val_mean_absolute_error: 2.7671\n",
      ".Epoch 415/500\n",
      "323/323 [==============================] - 0s 68us/step - loss: 2.3962 - mean_absolute_error: 1.1331 - val_loss: 10.4199 - val_mean_absolute_error: 2.4153\n",
      ".Epoch 416/500\n",
      "323/323 [==============================] - 0s 61us/step - loss: 1.8796 - mean_absolute_error: 1.0163 - val_loss: 11.3326 - val_mean_absolute_error: 2.5178\n",
      ".Epoch 417/500\n",
      "323/323 [==============================] - 0s 55us/step - loss: 2.1143 - mean_absolute_error: 1.0524 - val_loss: 10.7849 - val_mean_absolute_error: 2.4651\n",
      ".Epoch 418/500\n",
      "323/323 [==============================] - 0s 50us/step - loss: 2.0380 - mean_absolute_error: 1.0468 - val_loss: 13.2714 - val_mean_absolute_error: 2.8033\n",
      ".Epoch 419/500\n",
      "323/323 [==============================] - 0s 57us/step - loss: 2.2867 - mean_absolute_error: 1.0669 - val_loss: 11.2932 - val_mean_absolute_error: 2.4979\n",
      ".Epoch 420/500\n",
      "323/323 [==============================] - 0s 60us/step - loss: 1.9258 - mean_absolute_error: 1.0250 - val_loss: 11.3669 - val_mean_absolute_error: 2.5323\n",
      ".Epoch 421/500\n",
      "323/323 [==============================] - 0s 54us/step - loss: 1.9414 - mean_absolute_error: 1.0095 - val_loss: 11.1852 - val_mean_absolute_error: 2.5062\n",
      ".Epoch 422/500\n",
      "323/323 [==============================] - 0s 63us/step - loss: 1.9311 - mean_absolute_error: 1.0157 - val_loss: 12.2508 - val_mean_absolute_error: 2.6275\n",
      ".Epoch 423/500\n",
      "323/323 [==============================] - 0s 54us/step - loss: 2.0417 - mean_absolute_error: 1.0144 - val_loss: 11.8235 - val_mean_absolute_error: 2.6165\n",
      ".Epoch 424/500\n",
      "323/323 [==============================] - 0s 61us/step - loss: 2.2263 - mean_absolute_error: 1.0714 - val_loss: 10.2093 - val_mean_absolute_error: 2.3687\n",
      ".Epoch 425/500\n",
      "323/323 [==============================] - 0s 55us/step - loss: 1.9337 - mean_absolute_error: 1.0041 - val_loss: 10.6958 - val_mean_absolute_error: 2.4660\n",
      ".Epoch 426/500\n",
      "323/323 [==============================] - 0s 59us/step - loss: 1.9221 - mean_absolute_error: 1.0044 - val_loss: 10.9043 - val_mean_absolute_error: 2.4920\n",
      ".Epoch 427/500\n",
      "323/323 [==============================] - 0s 59us/step - loss: 1.8454 - mean_absolute_error: 0.9998 - val_loss: 11.7620 - val_mean_absolute_error: 2.5567\n",
      ".Epoch 428/500\n",
      "323/323 [==============================] - 0s 58us/step - loss: 2.0166 - mean_absolute_error: 1.0439 - val_loss: 12.6353 - val_mean_absolute_error: 2.6398\n",
      ".Epoch 429/500\n",
      "323/323 [==============================] - 0s 64us/step - loss: 1.9590 - mean_absolute_error: 1.0239 - val_loss: 10.3768 - val_mean_absolute_error: 2.3677\n",
      ".Epoch 430/500\n",
      "323/323 [==============================] - 0s 62us/step - loss: 1.9926 - mean_absolute_error: 1.0230 - val_loss: 10.5861 - val_mean_absolute_error: 2.4501\n",
      ".Epoch 431/500\n",
      "323/323 [==============================] - 0s 64us/step - loss: 2.0445 - mean_absolute_error: 1.0374 - val_loss: 10.2959 - val_mean_absolute_error: 2.4004\n",
      ".Epoch 432/500\n",
      "323/323 [==============================] - 0s 59us/step - loss: 1.8168 - mean_absolute_error: 0.9509 - val_loss: 11.2294 - val_mean_absolute_error: 2.5200\n",
      ".Epoch 433/500\n"
     ]
    },
    {
     "name": "stdout",
     "output_type": "stream",
     "text": [
      "323/323 [==============================] - 0s 60us/step - loss: 1.9325 - mean_absolute_error: 1.0182 - val_loss: 11.2556 - val_mean_absolute_error: 2.4937\n",
      ".Epoch 434/500\n",
      "323/323 [==============================] - 0s 71us/step - loss: 1.9436 - mean_absolute_error: 1.0372 - val_loss: 11.7886 - val_mean_absolute_error: 2.6204\n",
      ".Epoch 435/500\n",
      "323/323 [==============================] - 0s 59us/step - loss: 2.1715 - mean_absolute_error: 1.0835 - val_loss: 10.3886 - val_mean_absolute_error: 2.4505\n",
      ".Epoch 436/500\n",
      "323/323 [==============================] - 0s 70us/step - loss: 2.0020 - mean_absolute_error: 1.0315 - val_loss: 10.2298 - val_mean_absolute_error: 2.3907\n",
      ".Epoch 437/500\n",
      "323/323 [==============================] - 0s 77us/step - loss: 1.7927 - mean_absolute_error: 0.9924 - val_loss: 12.1059 - val_mean_absolute_error: 2.5674\n",
      ".Epoch 438/500\n",
      "323/323 [==============================] - 0s 57us/step - loss: 1.9707 - mean_absolute_error: 0.9952 - val_loss: 11.0857 - val_mean_absolute_error: 2.4811\n",
      ".Epoch 439/500\n",
      "323/323 [==============================] - 0s 55us/step - loss: 1.9363 - mean_absolute_error: 1.0200 - val_loss: 11.0305 - val_mean_absolute_error: 2.4833\n",
      ".Epoch 440/500\n",
      "323/323 [==============================] - 0s 55us/step - loss: 1.8652 - mean_absolute_error: 0.9944 - val_loss: 10.3484 - val_mean_absolute_error: 2.3759\n",
      ".Epoch 441/500\n",
      "323/323 [==============================] - 0s 56us/step - loss: 1.8340 - mean_absolute_error: 0.9666 - val_loss: 10.5290 - val_mean_absolute_error: 2.4352\n",
      ".Epoch 442/500\n",
      "323/323 [==============================] - 0s 53us/step - loss: 1.8186 - mean_absolute_error: 0.9809 - val_loss: 10.4708 - val_mean_absolute_error: 2.4359\n",
      ".Epoch 443/500\n",
      "323/323 [==============================] - 0s 53us/step - loss: 1.9465 - mean_absolute_error: 1.0264 - val_loss: 10.8045 - val_mean_absolute_error: 2.4248\n",
      ".Epoch 444/500\n",
      "323/323 [==============================] - 0s 56us/step - loss: 1.9248 - mean_absolute_error: 1.0115 - val_loss: 10.9652 - val_mean_absolute_error: 2.4880\n",
      ".Epoch 445/500\n",
      "323/323 [==============================] - 0s 57us/step - loss: 1.8014 - mean_absolute_error: 0.9600 - val_loss: 11.8599 - val_mean_absolute_error: 2.5482\n",
      ".Epoch 446/500\n",
      "323/323 [==============================] - 0s 54us/step - loss: 1.8682 - mean_absolute_error: 0.9905 - val_loss: 12.1628 - val_mean_absolute_error: 2.6829\n",
      ".Epoch 447/500\n",
      "323/323 [==============================] - 0s 66us/step - loss: 1.9515 - mean_absolute_error: 1.0209 - val_loss: 11.1332 - val_mean_absolute_error: 2.5474\n",
      ".Epoch 448/500\n",
      "323/323 [==============================] - 0s 54us/step - loss: 1.9236 - mean_absolute_error: 1.0411 - val_loss: 12.6972 - val_mean_absolute_error: 2.7437\n",
      ".Epoch 449/500\n",
      "323/323 [==============================] - 0s 57us/step - loss: 1.9585 - mean_absolute_error: 1.0063 - val_loss: 11.1662 - val_mean_absolute_error: 2.5551\n",
      ".Epoch 450/500\n",
      "323/323 [==============================] - 0s 52us/step - loss: 1.7369 - mean_absolute_error: 0.9833 - val_loss: 10.6644 - val_mean_absolute_error: 2.4201\n",
      ".Epoch 451/500\n",
      "323/323 [==============================] - 0s 62us/step - loss: 1.7645 - mean_absolute_error: 0.9663 - val_loss: 11.8767 - val_mean_absolute_error: 2.6101\n",
      ".Epoch 452/500\n",
      "323/323 [==============================] - 0s 63us/step - loss: 1.9714 - mean_absolute_error: 0.9974 - val_loss: 11.3067 - val_mean_absolute_error: 2.5923\n",
      ".Epoch 453/500\n",
      "323/323 [==============================] - 0s 58us/step - loss: 1.8497 - mean_absolute_error: 0.9987 - val_loss: 10.6126 - val_mean_absolute_error: 2.4314\n",
      ".Epoch 454/500\n",
      "323/323 [==============================] - 0s 57us/step - loss: 1.9476 - mean_absolute_error: 1.0109 - val_loss: 11.4436 - val_mean_absolute_error: 2.4948\n",
      ".Epoch 455/500\n",
      "323/323 [==============================] - 0s 55us/step - loss: 1.7057 - mean_absolute_error: 0.9564 - val_loss: 11.1118 - val_mean_absolute_error: 2.4865\n",
      ".Epoch 456/500\n",
      "323/323 [==============================] - 0s 58us/step - loss: 1.9568 - mean_absolute_error: 1.0063 - val_loss: 10.9440 - val_mean_absolute_error: 2.4837\n",
      ".Epoch 457/500\n",
      "323/323 [==============================] - 0s 57us/step - loss: 1.6579 - mean_absolute_error: 0.9198 - val_loss: 14.0003 - val_mean_absolute_error: 2.8935\n",
      ".Epoch 458/500\n",
      "323/323 [==============================] - 0s 56us/step - loss: 2.2703 - mean_absolute_error: 1.1131 - val_loss: 10.5902 - val_mean_absolute_error: 2.4273\n",
      ".Epoch 459/500\n",
      "323/323 [==============================] - 0s 62us/step - loss: 1.7685 - mean_absolute_error: 0.9590 - val_loss: 13.5921 - val_mean_absolute_error: 2.7786\n",
      ".Epoch 460/500\n",
      "323/323 [==============================] - 0s 55us/step - loss: 1.9063 - mean_absolute_error: 1.0100 - val_loss: 11.1974 - val_mean_absolute_error: 2.5351\n",
      ".Epoch 461/500\n",
      "323/323 [==============================] - 0s 65us/step - loss: 1.7134 - mean_absolute_error: 0.9642 - val_loss: 10.6115 - val_mean_absolute_error: 2.4478\n",
      ".Epoch 462/500\n",
      "323/323 [==============================] - 0s 50us/step - loss: 1.7619 - mean_absolute_error: 0.9692 - val_loss: 11.4289 - val_mean_absolute_error: 2.5801\n",
      ".Epoch 463/500\n",
      "323/323 [==============================] - 0s 53us/step - loss: 1.9261 - mean_absolute_error: 1.0216 - val_loss: 11.2205 - val_mean_absolute_error: 2.5046\n",
      ".Epoch 464/500\n",
      "323/323 [==============================] - 0s 61us/step - loss: 1.6192 - mean_absolute_error: 0.9303 - val_loss: 10.9713 - val_mean_absolute_error: 2.4596\n",
      ".Epoch 465/500\n",
      "323/323 [==============================] - 0s 58us/step - loss: 1.7907 - mean_absolute_error: 0.9809 - val_loss: 11.5980 - val_mean_absolute_error: 2.5663\n",
      ".Epoch 466/500\n",
      "323/323 [==============================] - 0s 57us/step - loss: 1.7739 - mean_absolute_error: 0.9588 - val_loss: 12.3148 - val_mean_absolute_error: 2.6337\n",
      ".Epoch 467/500\n",
      "323/323 [==============================] - 0s 55us/step - loss: 1.8303 - mean_absolute_error: 0.9696 - val_loss: 10.5648 - val_mean_absolute_error: 2.4596\n",
      ".Epoch 468/500\n",
      "323/323 [==============================] - 0s 57us/step - loss: 1.6364 - mean_absolute_error: 0.9555 - val_loss: 11.1538 - val_mean_absolute_error: 2.5184\n",
      ".Epoch 469/500\n",
      "323/323 [==============================] - 0s 55us/step - loss: 1.7148 - mean_absolute_error: 0.9439 - val_loss: 11.0714 - val_mean_absolute_error: 2.5502\n",
      ".Epoch 470/500\n",
      "323/323 [==============================] - 0s 58us/step - loss: 1.7839 - mean_absolute_error: 0.9591 - val_loss: 10.7840 - val_mean_absolute_error: 2.4613\n",
      ".Epoch 471/500\n",
      "323/323 [==============================] - 0s 56us/step - loss: 1.6181 - mean_absolute_error: 0.9214 - val_loss: 11.2089 - val_mean_absolute_error: 2.4985\n",
      ".Epoch 472/500\n",
      "323/323 [==============================] - 0s 60us/step - loss: 1.7537 - mean_absolute_error: 0.9443 - val_loss: 11.0823 - val_mean_absolute_error: 2.5352\n",
      ".Epoch 473/500\n",
      "323/323 [==============================] - 0s 57us/step - loss: 1.6418 - mean_absolute_error: 0.9353 - val_loss: 11.3955 - val_mean_absolute_error: 2.5323\n",
      ".Epoch 474/500\n",
      "323/323 [==============================] - 0s 56us/step - loss: 1.7005 - mean_absolute_error: 0.9424 - val_loss: 11.9322 - val_mean_absolute_error: 2.6805\n",
      ".Epoch 475/500\n",
      "323/323 [==============================] - 0s 53us/step - loss: 1.8664 - mean_absolute_error: 0.9975 - val_loss: 10.8732 - val_mean_absolute_error: 2.4062\n",
      ".Epoch 476/500\n",
      "323/323 [==============================] - 0s 53us/step - loss: 1.8179 - mean_absolute_error: 0.9939 - val_loss: 10.4686 - val_mean_absolute_error: 2.4164\n",
      ".Epoch 477/500\n",
      "323/323 [==============================] - 0s 54us/step - loss: 1.6150 - mean_absolute_error: 0.9210 - val_loss: 11.1198 - val_mean_absolute_error: 2.5167\n",
      ".Epoch 478/500\n",
      "323/323 [==============================] - 0s 56us/step - loss: 1.6011 - mean_absolute_error: 0.9127 - val_loss: 11.1656 - val_mean_absolute_error: 2.5210\n",
      ".Epoch 479/500\n",
      "323/323 [==============================] - 0s 48us/step - loss: 1.7851 - mean_absolute_error: 0.9647 - val_loss: 11.4910 - val_mean_absolute_error: 2.5364\n",
      ".Epoch 480/500\n",
      "323/323 [==============================] - 0s 55us/step - loss: 1.6843 - mean_absolute_error: 0.9521 - val_loss: 10.8302 - val_mean_absolute_error: 2.4715\n",
      ".Epoch 481/500\n"
     ]
    },
    {
     "name": "stdout",
     "output_type": "stream",
     "text": [
      "323/323 [==============================] - 0s 56us/step - loss: 1.6440 - mean_absolute_error: 0.9454 - val_loss: 12.1451 - val_mean_absolute_error: 2.5682\n",
      ".Epoch 482/500\n",
      "323/323 [==============================] - 0s 54us/step - loss: 1.5792 - mean_absolute_error: 0.9218 - val_loss: 10.9245 - val_mean_absolute_error: 2.5221\n",
      ".Epoch 483/500\n",
      "323/323 [==============================] - 0s 50us/step - loss: 1.6111 - mean_absolute_error: 0.9412 - val_loss: 10.9496 - val_mean_absolute_error: 2.4845\n",
      ".Epoch 484/500\n",
      "323/323 [==============================] - 0s 61us/step - loss: 1.7264 - mean_absolute_error: 0.9287 - val_loss: 10.8328 - val_mean_absolute_error: 2.4812\n",
      ".Epoch 485/500\n",
      "323/323 [==============================] - 0s 51us/step - loss: 1.5529 - mean_absolute_error: 0.8748 - val_loss: 12.6836 - val_mean_absolute_error: 2.6622\n",
      ".Epoch 486/500\n",
      "323/323 [==============================] - 0s 54us/step - loss: 2.0149 - mean_absolute_error: 1.0195 - val_loss: 12.5343 - val_mean_absolute_error: 2.6819\n",
      ".Epoch 487/500\n",
      "323/323 [==============================] - 0s 51us/step - loss: 1.7226 - mean_absolute_error: 0.9280 - val_loss: 12.3431 - val_mean_absolute_error: 2.6822\n",
      ".Epoch 488/500\n",
      "323/323 [==============================] - 0s 54us/step - loss: 1.7479 - mean_absolute_error: 0.9700 - val_loss: 11.1592 - val_mean_absolute_error: 2.5468\n",
      ".Epoch 489/500\n",
      "323/323 [==============================] - 0s 52us/step - loss: 1.8149 - mean_absolute_error: 0.9908 - val_loss: 11.8438 - val_mean_absolute_error: 2.5979\n",
      ".Epoch 490/500\n",
      "323/323 [==============================] - 0s 49us/step - loss: 1.7614 - mean_absolute_error: 0.9579 - val_loss: 11.0902 - val_mean_absolute_error: 2.4806\n",
      ".Epoch 491/500\n",
      "323/323 [==============================] - 0s 51us/step - loss: 1.5760 - mean_absolute_error: 0.8993 - val_loss: 10.9757 - val_mean_absolute_error: 2.5127\n",
      ".Epoch 492/500\n",
      "323/323 [==============================] - 0s 51us/step - loss: 1.5570 - mean_absolute_error: 0.9157 - val_loss: 10.9598 - val_mean_absolute_error: 2.4885\n",
      ".Epoch 493/500\n",
      "323/323 [==============================] - 0s 53us/step - loss: 1.6574 - mean_absolute_error: 0.9505 - val_loss: 11.1711 - val_mean_absolute_error: 2.5080\n",
      ".Epoch 494/500\n",
      "323/323 [==============================] - 0s 53us/step - loss: 1.7110 - mean_absolute_error: 0.9409 - val_loss: 11.0937 - val_mean_absolute_error: 2.5100\n",
      ".Epoch 495/500\n",
      "323/323 [==============================] - 0s 57us/step - loss: 1.6718 - mean_absolute_error: 0.9238 - val_loss: 11.0961 - val_mean_absolute_error: 2.4807\n",
      ".Epoch 496/500\n",
      "323/323 [==============================] - 0s 52us/step - loss: 1.6655 - mean_absolute_error: 0.9128 - val_loss: 10.7511 - val_mean_absolute_error: 2.4885\n",
      ".Epoch 497/500\n",
      "323/323 [==============================] - 0s 54us/step - loss: 1.8379 - mean_absolute_error: 0.9469 - val_loss: 12.3319 - val_mean_absolute_error: 2.6463\n",
      ".Epoch 498/500\n",
      "323/323 [==============================] - 0s 56us/step - loss: 1.6101 - mean_absolute_error: 0.9153 - val_loss: 11.1897 - val_mean_absolute_error: 2.5128\n",
      ".Epoch 499/500\n",
      "323/323 [==============================] - 0s 55us/step - loss: 1.4995 - mean_absolute_error: 0.8817 - val_loss: 12.5391 - val_mean_absolute_error: 2.6744\n",
      ".Epoch 500/500\n",
      "323/323 [==============================] - 0s 62us/step - loss: 1.5346 - mean_absolute_error: 0.8994 - val_loss: 11.1066 - val_mean_absolute_error: 2.5467\n",
      "."
     ]
    }
   ],
   "source": [
    "# keras Callback to display training progress by printing a single dot for each completed epoch.\n",
    "class PrintDot(keras.callbacks.Callback):\n",
    "  def on_epoch_end(self, epoch, logs):\n",
    "    if epoch % 100 == 0: print('')\n",
    "    print('.', end='')\n",
    "\n",
    "EPOCHS = 500\n",
    "\n",
    "# Store training stats\n",
    "history = model.fit(train_data, train_labels, \n",
    "                    epochs=EPOCHS,\n",
    "                    validation_split=0.2, \n",
    "                    verbose=1,\n",
    "                    callbacks=[PrintDot()])"
   ]
  },
  {
   "cell_type": "markdown",
   "metadata": {
    "colab_type": "text",
    "id": "tQm3pc0FYPQB"
   },
   "source": [
    "Visualize the model's training progress using the stats stored in the `history` object. We want to use this data to determine how long to train *before* the model stops making progress."
   ]
  },
  {
   "cell_type": "code",
   "execution_count": 61,
   "metadata": {},
   "outputs": [
    {
     "name": "stdout",
     "output_type": "stream",
     "text": [
      "<tensorflow.python.keras.callbacks.History object at 0x7faf101110b8>\n",
      "dict_keys(['val_loss', 'val_mean_absolute_error', 'loss', 'mean_absolute_error'])\n",
      "[0, 1, 2, 3, 4]\n",
      "[22.430874851096895, 21.303448101315336, 19.98601937072565, 18.465837248338634, 16.484340148075447]\n"
     ]
    }
   ],
   "source": [
    "print(history)\n",
    "print(history.history.keys())\n",
    "print(history.epoch[:5])\n",
    "print(history.history['mean_absolute_error'][:5])\n",
    "\n",
    "assert len(history.epoch) == len(history.history['mean_absolute_error']) \\\n",
    "        and len(history.epoch) == len(history.history['val_mean_absolute_error']) \\\n",
    "        and len(history.epoch) == len(history.history['val_loss']), \\\n",
    "        'Some epochs appear to have no history values recorded'"
   ]
  },
  {
   "cell_type": "code",
   "execution_count": 62,
   "metadata": {
    "colab": {
     "autoexec": {
      "startup": false,
      "wait_interval": 0
     }
    },
    "colab_type": "code",
    "id": "B6XriGbVPh2t"
   },
   "outputs": [
    {
     "data": {
      "image/png": "[encoded data removed]",
      "text/plain": [
       "<Figure size 432x288 with 1 Axes>"
      ]
     },
     "metadata": {},
     "output_type": "display_data"
    }
   ],
   "source": [
    "import matplotlib.pyplot as plt\n",
    "\n",
    "def plot_history(history):\n",
    "    plt.figure()\n",
    "    plt.xlabel('Epoch')\n",
    "    plt.ylabel('Mean Abs Error [1000$]')\n",
    "\n",
    "    train_x, train_y = history.epoch, np.array(history.history['mean_absolute_error'])\n",
    "    plt.plot(train_x, train_y, \n",
    "             label='Train Loss')\n",
    "    \n",
    "    validation_x, validation_y = history.epoch, np.array(history.history['val_mean_absolute_error'])\n",
    "    plt.plot(validation_x, validation_y,\n",
    "             label = 'Val loss')\n",
    "        \n",
    "    plt.legend()\n",
    "    plt.ylim([0,5])\n",
    "\n",
    "plot_history(history)"
   ]
  },
  {
   "cell_type": "markdown",
   "metadata": {
    "colab_type": "text",
    "id": "AqsuANc11FYv"
   },
   "source": [
    "This graph shows little improvement in the model after about 200 epochs. Let's update the `model.fit` method to automatically stop training when the validation score doesn't improve. We'll use a *callback* that tests a training condition for  every epoch. If a set amount of epochs elapses without showing improvement, then automatically stop the training.\n",
    "\n",
    "You can learn more about this callback [here](https://www.tensorflow.org/versions/master/api_docs/python/tf/keras/callbacks/EarlyStopping)."
   ]
  },
  {
   "cell_type": "code",
   "execution_count": 63,
   "metadata": {
    "colab": {
     "autoexec": {
      "startup": false,
      "wait_interval": 0
     }
    },
    "colab_type": "code",
    "id": "fdMZuhUgzMZ4"
   },
   "outputs": [
    {
     "name": "stdout",
     "output_type": "stream",
     "text": [
      "\n",
      "....................................................................................................\n",
      "................................................................................"
     ]
    },
    {
     "data": {
      "image/png": "[encoded data removed]",
      "text/plain": [
       "<Figure size 432x288 with 1 Axes>"
      ]
     },
     "metadata": {},
     "output_type": "display_data"
    }
   ],
   "source": [
    "model = build_model()\n",
    "\n",
    "# The patience parameter is the amount of epochs to check for improvement.\n",
    "early_stopper = keras.callbacks.EarlyStopping(monitor='val_loss', patience=20)\n",
    "\n",
    "history = model.fit(train_data, train_labels, \n",
    "                    epochs=EPOCHS,\n",
    "                    validation_split=0.2, \n",
    "                    verbose=0,\n",
    "                    callbacks=[\n",
    "                        early_stoper, \n",
    "                        PrintDot()\n",
    "                    ])\n",
    "\n",
    "plot_history(history)"
   ]
  },
  {
   "cell_type": "markdown",
   "metadata": {
    "colab_type": "text",
    "id": "3St8-DmrX8P4"
   },
   "source": [
    "The graph shows the average error is about \\\\$2,500 dollars. Is this good? Well, \\\\$2,500 is **not** an insignificant amount when some of the labels are only \\\\$15,000.\n",
    "\n",
    "Let's see how did the model performs on the test set:"
   ]
  },
  {
   "cell_type": "code",
   "execution_count": 64,
   "metadata": {
    "colab": {
     "autoexec": {
      "startup": false,
      "wait_interval": 0
     }
    },
    "colab_type": "code",
    "id": "jl_yNr5n1kms"
   },
   "outputs": [
    {
     "name": "stdout",
     "output_type": "stream",
     "text": [
      "102/102 [==============================] - 0s 51us/step\n",
      "Testing set Mean Abs Error: $2785.35\n"
     ]
    }
   ],
   "source": [
    "[loss, mae] = model.evaluate(test_data, test_labels, verbose=1)\n",
    "\n",
    "print(\"Testing set Mean Abs Error: ${:7.2f}\".format(mae * 1000))"
   ]
  },
  {
   "cell_type": "markdown",
   "metadata": {
    "colab_type": "text",
    "id": "ft603OzXuEZC"
   },
   "source": [
    "## Predict\n",
    "\n",
    "Finally, predict some housing prices using data in the testing set:"
   ]
  },
  {
   "cell_type": "code",
   "execution_count": 65,
   "metadata": {
    "colab": {
     "autoexec": {
      "startup": false,
      "wait_interval": 0
     }
    },
    "colab_type": "code",
    "id": "Xe7RXH3N3CWU"
   },
   "outputs": [
    {
     "name": "stdout",
     "output_type": "stream",
     "text": [
      "[ 9.375069 19.306358 21.538486 35.879196 25.260315 22.726273 27.018703\n",
      " 22.602882 19.15848  24.326818 22.241247 16.350805 15.260238 42.76047\n",
      " 20.970839 20.002422 25.988808 19.00184  21.051023 27.060188 12.528146\n",
      " 16.997562 22.27104  17.26948  20.525408 25.509974 28.610552 32.075672\n",
      " 11.867508 19.986736 20.4385   15.145944 32.876934 24.43221  19.803679\n",
      "  8.987653 16.126057 17.450964 19.71431  26.04148  31.084486 26.86694\n",
      " 15.403751 44.030262 28.427176 26.003668 27.839233 18.93174  25.31101\n",
      " 23.084743 35.66707  21.610205 11.790237 16.122007 36.473614 27.942303\n",
      " 13.580906 48.160404 33.90359  23.198565 26.11957  18.52772  15.59505\n",
      " 20.441845 24.394974 21.346596 13.969278 21.920723 12.59387   8.612341\n",
      " 26.654648 30.991503 28.003479 12.361489 25.14651  18.291132 19.55519\n",
      " 24.793125 36.696987 11.159711 20.74458  36.78544  16.72489  14.504716\n",
      " 18.083244 17.07031  23.764791 20.375446 21.190485 31.48234  21.144928\n",
      " 20.43973  26.162418 43.66711  37.510685 21.63927  34.385075 48.724102\n",
      " 25.929613 48.13204  30.76683  20.773232]\n"
     ]
    }
   ],
   "source": [
    "vect_of_result_vects = model.predict(test_data)\n",
    "test_predictions = vect_of_result_vects.flatten()\n",
    "\n",
    "print(test_predictions)"
   ]
  },
  {
   "cell_type": "markdown",
   "metadata": {
    "colab_type": "text",
    "id": "vgGQuV-yqYZH"
   },
   "source": [
    "## Conclusion\n",
    "\n",
    "This notebook introduced a few techniques to handle a regression problem.\n",
    "\n",
    "* Mean Squared Error (MSE) is a common loss function used for regression problems (different than classification problems).\n",
    "* Similarly, evaluation metrics used for regression differ from classification. A common regression metric is Mean Absolute Error (MAE).\n",
    "* When input data features have values with different ranges, each feature should be scaled independently.\n",
    "* If there is not much training data, prefer a small network with few hidden layers to avoid overfitting.\n",
    "* Early stopping is a useful technique to prevent overfitting."
   ]
  }
 ],
 "metadata": {
  "colab": {
   "collapsed_sections": [
    "FhGuhbZ6M5tl"
   ],
   "default_view": {},
   "name": "basic-regression.ipynb",
   "private_outputs": true,
   "provenance": [],
   "toc_visible": true,
   "version": "0.3.2",
   "views": {}
  },
  "kernelspec": {
   "display_name": "Python 3",
   "language": "python",
   "name": "python3"
  },
  "language_info": {
   "codemirror_mode": {
    "name": "ipython",
    "version": 3
   },
   "file_extension": ".py",
   "mimetype": "text/x-python",
   "name": "python",
   "nbconvert_exporter": "python",
   "pygments_lexer": "ipython3",
   "version": "3.6.5"
  },
  "toc": {
   "base_numbering": 1,
   "nav_menu": {},
   "number_sections": true,
   "sideBar": true,
   "skip_h1_title": false,
   "title_cell": "Table of Contents",
   "title_sidebar": "Contents",
   "toc_cell": false,
   "toc_position": {},
   "toc_section_display": true,
   "toc_window_display": false
  }
 },
 "nbformat": 4,
 "nbformat_minor": 1
}
